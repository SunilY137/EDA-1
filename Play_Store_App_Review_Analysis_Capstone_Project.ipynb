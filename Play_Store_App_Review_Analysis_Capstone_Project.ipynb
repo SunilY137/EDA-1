{
  "nbformat": 4,
  "nbformat_minor": 0,
  "metadata": {
    "kernelspec": {
      "display_name": "Python 3",
      "language": "python",
      "name": "python3"
    },
    "language_info": {
      "codemirror_mode": {
        "name": "ipython",
        "version": 3
      },
      "file_extension": ".py",
      "mimetype": "text/x-python",
      "name": "python",
      "nbconvert_exporter": "python",
      "pygments_lexer": "ipython3",
      "version": "3.6.6"
    },
    "colab": {
      "provenance": [],
      "collapsed_sections": [],
      "include_colab_link": true
    }
  },
  "cells": [
    {
      "cell_type": "markdown",
      "metadata": {
        "id": "view-in-github",
        "colab_type": "text"
      },
      "source": [
        "<a href=\"https://colab.research.google.com/github/SunilY137/EDA-1/blob/main/Play_Store_App_Review_Analysis_Capstone_Project.ipynb\" target=\"_parent\"><img src=\"https://colab.research.google.com/assets/colab-badge.svg\" alt=\"Open In Colab\"/></a>"
      ]
    },
    {
      "cell_type": "markdown",
      "metadata": {
        "id": "Y06xIdG26kRF"
      },
      "source": [
        "## <b> The Play Store apps data has enormous potential to drive app-making businesses to success. Actionable insights can be drawn for developers to work on and capture the Android market. </b>\n",
        "\n",
        "## <b> Each app (row) has values for catergory, rating, size, and more. Another dataset contains customer reviews of the android apps.</b>\n",
        "\n",
        "## <b> Explore and analyze the data to discover key factors responsible for app engagement and success. </b>"
      ]
    },
    {
      "cell_type": "code",
      "metadata": {
        "id": "dByMsuzT8Tnw",
        "colab": {
          "base_uri": "https://localhost:8080/"
        },
        "outputId": "1fdc3d69-a6de-4134-d703-2feed28145db"
      },
      "source": [
        "import numpy as np \n",
        "import pandas as pd \n",
        "import matplotlib.pyplot as plt\n",
        "from scipy import stats\n",
        "import seaborn as sns\n",
        "from google.colab import drive\n",
        "drive.mount(\"/content/gdrive\")"
      ],
      "execution_count": null,
      "outputs": [
        {
          "output_type": "stream",
          "name": "stdout",
          "text": [
            "Drive already mounted at /content/gdrive; to attempt to forcibly remount, call drive.mount(\"/content/gdrive\", force_remount=True).\n"
          ]
        }
      ]
    },
    {
      "cell_type": "code",
      "source": [
        "df = pd.read_csv('/content/gdrive/MyDrive/EDA Project 1/Play Store Data.csv', dtype='str')\n"
      ],
      "metadata": {
        "id": "Xe3euxJhsyug"
      },
      "execution_count": null,
      "outputs": []
    },
    {
      "cell_type": "code",
      "source": [
        "\n"
      ],
      "metadata": {
        "id": "q1EgKaKL4tvX"
      },
      "execution_count": null,
      "outputs": []
    },
    {
      "cell_type": "markdown",
      "source": [
        "# 1 We first use head() method to get a quick look at the first 5 rows of data.\n",
        "# Here we can make initial thoughts on what might need to be cleaned or manipulated.\n",
        "# A info() and shape() will give us a little more information of the dataset. \n",
        "# The shape method reveals that we have 10841 rows and 13 columns"
      ],
      "metadata": {
        "id": "u5we8XctRwUY"
      }
    },
    {
      "cell_type": "code",
      "source": [
        "df.head()\n",
        "\n",
        "\n"
      ],
      "metadata": {
        "colab": {
          "base_uri": "https://localhost:8080/",
          "height": 406
        },
        "id": "jBqU680_tDCI",
        "outputId": "33816e09-79f8-41b2-a9d6-c994ff7c93a7"
      },
      "execution_count": null,
      "outputs": [
        {
          "output_type": "execute_result",
          "data": {
            "text/plain": [
              "                                                 App        Category Rating  \\\n",
              "0     Photo Editor & Candy Camera & Grid & ScrapBook  ART_AND_DESIGN    4.1   \n",
              "1                                Coloring book moana  ART_AND_DESIGN    3.9   \n",
              "2  U Launcher Lite – FREE Live Cool Themes, Hide ...  ART_AND_DESIGN    4.7   \n",
              "3                              Sketch - Draw & Paint  ART_AND_DESIGN    4.5   \n",
              "4              Pixel Draw - Number Art Coloring Book  ART_AND_DESIGN    4.3   \n",
              "\n",
              "  Reviews  Size     Installs  Type Price Content Rating  \\\n",
              "0     159   19M      10,000+  Free     0       Everyone   \n",
              "1     967   14M     500,000+  Free     0       Everyone   \n",
              "2   87510  8.7M   5,000,000+  Free     0       Everyone   \n",
              "3  215644   25M  50,000,000+  Free     0           Teen   \n",
              "4     967  2.8M     100,000+  Free     0       Everyone   \n",
              "\n",
              "                      Genres      Last Updated         Current Ver  \\\n",
              "0               Art & Design   January 7, 2018               1.0.0   \n",
              "1  Art & Design;Pretend Play  January 15, 2018               2.0.0   \n",
              "2               Art & Design    August 1, 2018               1.2.4   \n",
              "3               Art & Design      June 8, 2018  Varies with device   \n",
              "4    Art & Design;Creativity     June 20, 2018                 1.1   \n",
              "\n",
              "    Android Ver  \n",
              "0  4.0.3 and up  \n",
              "1  4.0.3 and up  \n",
              "2  4.0.3 and up  \n",
              "3    4.2 and up  \n",
              "4    4.4 and up  "
            ],
            "text/html": [
              "\n",
              "  <div id=\"df-00a9f118-f523-4263-9fbf-a147bf0f0b8b\">\n",
              "    <div class=\"colab-df-container\">\n",
              "      <div>\n",
              "<style scoped>\n",
              "    .dataframe tbody tr th:only-of-type {\n",
              "        vertical-align: middle;\n",
              "    }\n",
              "\n",
              "    .dataframe tbody tr th {\n",
              "        vertical-align: top;\n",
              "    }\n",
              "\n",
              "    .dataframe thead th {\n",
              "        text-align: right;\n",
              "    }\n",
              "</style>\n",
              "<table border=\"1\" class=\"dataframe\">\n",
              "  <thead>\n",
              "    <tr style=\"text-align: right;\">\n",
              "      <th></th>\n",
              "      <th>App</th>\n",
              "      <th>Category</th>\n",
              "      <th>Rating</th>\n",
              "      <th>Reviews</th>\n",
              "      <th>Size</th>\n",
              "      <th>Installs</th>\n",
              "      <th>Type</th>\n",
              "      <th>Price</th>\n",
              "      <th>Content Rating</th>\n",
              "      <th>Genres</th>\n",
              "      <th>Last Updated</th>\n",
              "      <th>Current Ver</th>\n",
              "      <th>Android Ver</th>\n",
              "    </tr>\n",
              "  </thead>\n",
              "  <tbody>\n",
              "    <tr>\n",
              "      <th>0</th>\n",
              "      <td>Photo Editor &amp; Candy Camera &amp; Grid &amp; ScrapBook</td>\n",
              "      <td>ART_AND_DESIGN</td>\n",
              "      <td>4.1</td>\n",
              "      <td>159</td>\n",
              "      <td>19M</td>\n",
              "      <td>10,000+</td>\n",
              "      <td>Free</td>\n",
              "      <td>0</td>\n",
              "      <td>Everyone</td>\n",
              "      <td>Art &amp; Design</td>\n",
              "      <td>January 7, 2018</td>\n",
              "      <td>1.0.0</td>\n",
              "      <td>4.0.3 and up</td>\n",
              "    </tr>\n",
              "    <tr>\n",
              "      <th>1</th>\n",
              "      <td>Coloring book moana</td>\n",
              "      <td>ART_AND_DESIGN</td>\n",
              "      <td>3.9</td>\n",
              "      <td>967</td>\n",
              "      <td>14M</td>\n",
              "      <td>500,000+</td>\n",
              "      <td>Free</td>\n",
              "      <td>0</td>\n",
              "      <td>Everyone</td>\n",
              "      <td>Art &amp; Design;Pretend Play</td>\n",
              "      <td>January 15, 2018</td>\n",
              "      <td>2.0.0</td>\n",
              "      <td>4.0.3 and up</td>\n",
              "    </tr>\n",
              "    <tr>\n",
              "      <th>2</th>\n",
              "      <td>U Launcher Lite – FREE Live Cool Themes, Hide ...</td>\n",
              "      <td>ART_AND_DESIGN</td>\n",
              "      <td>4.7</td>\n",
              "      <td>87510</td>\n",
              "      <td>8.7M</td>\n",
              "      <td>5,000,000+</td>\n",
              "      <td>Free</td>\n",
              "      <td>0</td>\n",
              "      <td>Everyone</td>\n",
              "      <td>Art &amp; Design</td>\n",
              "      <td>August 1, 2018</td>\n",
              "      <td>1.2.4</td>\n",
              "      <td>4.0.3 and up</td>\n",
              "    </tr>\n",
              "    <tr>\n",
              "      <th>3</th>\n",
              "      <td>Sketch - Draw &amp; Paint</td>\n",
              "      <td>ART_AND_DESIGN</td>\n",
              "      <td>4.5</td>\n",
              "      <td>215644</td>\n",
              "      <td>25M</td>\n",
              "      <td>50,000,000+</td>\n",
              "      <td>Free</td>\n",
              "      <td>0</td>\n",
              "      <td>Teen</td>\n",
              "      <td>Art &amp; Design</td>\n",
              "      <td>June 8, 2018</td>\n",
              "      <td>Varies with device</td>\n",
              "      <td>4.2 and up</td>\n",
              "    </tr>\n",
              "    <tr>\n",
              "      <th>4</th>\n",
              "      <td>Pixel Draw - Number Art Coloring Book</td>\n",
              "      <td>ART_AND_DESIGN</td>\n",
              "      <td>4.3</td>\n",
              "      <td>967</td>\n",
              "      <td>2.8M</td>\n",
              "      <td>100,000+</td>\n",
              "      <td>Free</td>\n",
              "      <td>0</td>\n",
              "      <td>Everyone</td>\n",
              "      <td>Art &amp; Design;Creativity</td>\n",
              "      <td>June 20, 2018</td>\n",
              "      <td>1.1</td>\n",
              "      <td>4.4 and up</td>\n",
              "    </tr>\n",
              "  </tbody>\n",
              "</table>\n",
              "</div>\n",
              "      <button class=\"colab-df-convert\" onclick=\"convertToInteractive('df-00a9f118-f523-4263-9fbf-a147bf0f0b8b')\"\n",
              "              title=\"Convert this dataframe to an interactive table.\"\n",
              "              style=\"display:none;\">\n",
              "        \n",
              "  <svg xmlns=\"http://www.w3.org/2000/svg\" height=\"24px\"viewBox=\"0 0 24 24\"\n",
              "       width=\"24px\">\n",
              "    <path d=\"M0 0h24v24H0V0z\" fill=\"none\"/>\n",
              "    <path d=\"M18.56 5.44l.94 2.06.94-2.06 2.06-.94-2.06-.94-.94-2.06-.94 2.06-2.06.94zm-11 1L8.5 8.5l.94-2.06 2.06-.94-2.06-.94L8.5 2.5l-.94 2.06-2.06.94zm10 10l.94 2.06.94-2.06 2.06-.94-2.06-.94-.94-2.06-.94 2.06-2.06.94z\"/><path d=\"M17.41 7.96l-1.37-1.37c-.4-.4-.92-.59-1.43-.59-.52 0-1.04.2-1.43.59L10.3 9.45l-7.72 7.72c-.78.78-.78 2.05 0 2.83L4 21.41c.39.39.9.59 1.41.59.51 0 1.02-.2 1.41-.59l7.78-7.78 2.81-2.81c.8-.78.8-2.07 0-2.86zM5.41 20L4 18.59l7.72-7.72 1.47 1.35L5.41 20z\"/>\n",
              "  </svg>\n",
              "      </button>\n",
              "      \n",
              "  <style>\n",
              "    .colab-df-container {\n",
              "      display:flex;\n",
              "      flex-wrap:wrap;\n",
              "      gap: 12px;\n",
              "    }\n",
              "\n",
              "    .colab-df-convert {\n",
              "      background-color: #E8F0FE;\n",
              "      border: none;\n",
              "      border-radius: 50%;\n",
              "      cursor: pointer;\n",
              "      display: none;\n",
              "      fill: #1967D2;\n",
              "      height: 32px;\n",
              "      padding: 0 0 0 0;\n",
              "      width: 32px;\n",
              "    }\n",
              "\n",
              "    .colab-df-convert:hover {\n",
              "      background-color: #E2EBFA;\n",
              "      box-shadow: 0px 1px 2px rgba(60, 64, 67, 0.3), 0px 1px 3px 1px rgba(60, 64, 67, 0.15);\n",
              "      fill: #174EA6;\n",
              "    }\n",
              "\n",
              "    [theme=dark] .colab-df-convert {\n",
              "      background-color: #3B4455;\n",
              "      fill: #D2E3FC;\n",
              "    }\n",
              "\n",
              "    [theme=dark] .colab-df-convert:hover {\n",
              "      background-color: #434B5C;\n",
              "      box-shadow: 0px 1px 3px 1px rgba(0, 0, 0, 0.15);\n",
              "      filter: drop-shadow(0px 1px 2px rgba(0, 0, 0, 0.3));\n",
              "      fill: #FFFFFF;\n",
              "    }\n",
              "  </style>\n",
              "\n",
              "      <script>\n",
              "        const buttonEl =\n",
              "          document.querySelector('#df-00a9f118-f523-4263-9fbf-a147bf0f0b8b button.colab-df-convert');\n",
              "        buttonEl.style.display =\n",
              "          google.colab.kernel.accessAllowed ? 'block' : 'none';\n",
              "\n",
              "        async function convertToInteractive(key) {\n",
              "          const element = document.querySelector('#df-00a9f118-f523-4263-9fbf-a147bf0f0b8b');\n",
              "          const dataTable =\n",
              "            await google.colab.kernel.invokeFunction('convertToInteractive',\n",
              "                                                     [key], {});\n",
              "          if (!dataTable) return;\n",
              "\n",
              "          const docLinkHtml = 'Like what you see? Visit the ' +\n",
              "            '<a target=\"_blank\" href=https://colab.research.google.com/notebooks/data_table.ipynb>data table notebook</a>'\n",
              "            + ' to learn more about interactive tables.';\n",
              "          element.innerHTML = '';\n",
              "          dataTable['output_type'] = 'display_data';\n",
              "          await google.colab.output.renderOutput(dataTable, element);\n",
              "          const docLink = document.createElement('div');\n",
              "          docLink.innerHTML = docLinkHtml;\n",
              "          element.appendChild(docLink);\n",
              "        }\n",
              "      </script>\n",
              "    </div>\n",
              "  </div>\n",
              "  "
            ]
          },
          "metadata": {},
          "execution_count": 3
        }
      ]
    },
    {
      "cell_type": "code",
      "source": [
        "df.shape"
      ],
      "metadata": {
        "colab": {
          "base_uri": "https://localhost:8080/"
        },
        "id": "tibrmeQmtkke",
        "outputId": "9de419c5-46fd-4d04-d2c3-674ea8d4ee3f"
      },
      "execution_count": null,
      "outputs": [
        {
          "output_type": "execute_result",
          "data": {
            "text/plain": [
              "(10841, 13)"
            ]
          },
          "metadata": {},
          "execution_count": 4
        }
      ]
    },
    {
      "cell_type": "code",
      "source": [
        "df.describe"
      ],
      "metadata": {
        "colab": {
          "base_uri": "https://localhost:8080/"
        },
        "id": "AxE8mgubt_sS",
        "outputId": "d4ac96fb-2296-4b8f-8364-9f5cced943d6"
      },
      "execution_count": null,
      "outputs": [
        {
          "output_type": "execute_result",
          "data": {
            "text/plain": [
              "<bound method NDFrame.describe of                                                      App             Category  \\\n",
              "0         Photo Editor & Candy Camera & Grid & ScrapBook       ART_AND_DESIGN   \n",
              "1                                    Coloring book moana       ART_AND_DESIGN   \n",
              "2      U Launcher Lite – FREE Live Cool Themes, Hide ...       ART_AND_DESIGN   \n",
              "3                                  Sketch - Draw & Paint       ART_AND_DESIGN   \n",
              "4                  Pixel Draw - Number Art Coloring Book       ART_AND_DESIGN   \n",
              "...                                                  ...                  ...   \n",
              "10836                                   Sya9a Maroc - FR               FAMILY   \n",
              "10837                   Fr. Mike Schmitz Audio Teachings               FAMILY   \n",
              "10838                             Parkinson Exercices FR              MEDICAL   \n",
              "10839                      The SCP Foundation DB fr nn5n  BOOKS_AND_REFERENCE   \n",
              "10840      iHoroscope - 2018 Daily Horoscope & Astrology            LIFESTYLE   \n",
              "\n",
              "      Rating Reviews                Size     Installs  Type Price  \\\n",
              "0        4.1     159                 19M      10,000+  Free     0   \n",
              "1        3.9     967                 14M     500,000+  Free     0   \n",
              "2        4.7   87510                8.7M   5,000,000+  Free     0   \n",
              "3        4.5  215644                 25M  50,000,000+  Free     0   \n",
              "4        4.3     967                2.8M     100,000+  Free     0   \n",
              "...      ...     ...                 ...          ...   ...   ...   \n",
              "10836    4.5      38                 53M       5,000+  Free     0   \n",
              "10837    5.0       4                3.6M         100+  Free     0   \n",
              "10838    NaN       3                9.5M       1,000+  Free     0   \n",
              "10839    4.5     114  Varies with device       1,000+  Free     0   \n",
              "10840    4.5  398307                 19M  10,000,000+  Free     0   \n",
              "\n",
              "      Content Rating                     Genres      Last Updated  \\\n",
              "0           Everyone               Art & Design   January 7, 2018   \n",
              "1           Everyone  Art & Design;Pretend Play  January 15, 2018   \n",
              "2           Everyone               Art & Design    August 1, 2018   \n",
              "3               Teen               Art & Design      June 8, 2018   \n",
              "4           Everyone    Art & Design;Creativity     June 20, 2018   \n",
              "...              ...                        ...               ...   \n",
              "10836       Everyone                  Education     July 25, 2017   \n",
              "10837       Everyone                  Education      July 6, 2018   \n",
              "10838       Everyone                    Medical  January 20, 2017   \n",
              "10839     Mature 17+          Books & Reference  January 19, 2015   \n",
              "10840       Everyone                  Lifestyle     July 25, 2018   \n",
              "\n",
              "              Current Ver         Android Ver  \n",
              "0                   1.0.0        4.0.3 and up  \n",
              "1                   2.0.0        4.0.3 and up  \n",
              "2                   1.2.4        4.0.3 and up  \n",
              "3      Varies with device          4.2 and up  \n",
              "4                     1.1          4.4 and up  \n",
              "...                   ...                 ...  \n",
              "10836                1.48          4.1 and up  \n",
              "10837                 1.0          4.1 and up  \n",
              "10838                 1.0          2.2 and up  \n",
              "10839  Varies with device  Varies with device  \n",
              "10840  Varies with device  Varies with device  \n",
              "\n",
              "[10841 rows x 13 columns]>"
            ]
          },
          "metadata": {},
          "execution_count": 5
        }
      ]
    },
    {
      "cell_type": "code",
      "source": [
        "df.size"
      ],
      "metadata": {
        "colab": {
          "base_uri": "https://localhost:8080/"
        },
        "id": "OeeEGwVAuERq",
        "outputId": "7a638176-9d85-4743-8b4c-15c79f6a2d0f"
      },
      "execution_count": null,
      "outputs": [
        {
          "output_type": "execute_result",
          "data": {
            "text/plain": [
              "140933"
            ]
          },
          "metadata": {},
          "execution_count": 6
        }
      ]
    },
    {
      "cell_type": "code",
      "source": [],
      "metadata": {
        "id": "7ADZ3gb3vD23"
      },
      "execution_count": null,
      "outputs": []
    },
    {
      "cell_type": "markdown",
      "source": [
        "# 2. Data Cleaning Phase"
      ],
      "metadata": {
        "id": "l9V9JsaxSnk7"
      }
    },
    {
      "cell_type": "code",
      "source": [],
      "metadata": {
        "id": "8_bwqfmoTfeW"
      },
      "execution_count": null,
      "outputs": []
    },
    {
      "cell_type": "markdown",
      "source": [
        "2. Data Cleaning Phase\n",
        "First of all, we can do some general tidying up of the column names and values.clean columns names and values"
      ],
      "metadata": {
        "id": "a2vHRc8fSINg"
      }
    },
    {
      "cell_type": "code",
      "source": [
        "def clean_columns(df):\n",
        "    df.columns = df.columns.str.strip().str.lower().str.replace(' ', '_')\n",
        "    \n",
        "clean_columns(df)\n",
        "\n",
        "def clean_vals(df):\n",
        "    for col in df.columns:\n",
        "        df[col] = df[col].str.strip().str.upper().str.replace('\\t|\\n', '', regex=True)\n",
        "     \n",
        "clean_vals(df)"
      ],
      "metadata": {
        "id": "waer4AWZsEKm"
      },
      "execution_count": null,
      "outputs": []
    },
    {
      "cell_type": "code",
      "source": [
        "#check\n",
        "\n",
        "df.head()"
      ],
      "metadata": {
        "colab": {
          "base_uri": "https://localhost:8080/",
          "height": 583
        },
        "id": "-FMWN-ajURC5",
        "outputId": "e8d027fa-b336-4421-a329-fde91baff81b"
      },
      "execution_count": null,
      "outputs": [
        {
          "output_type": "execute_result",
          "data": {
            "text/plain": [
              "                                                 app        category rating  \\\n",
              "0     PHOTO EDITOR & CANDY CAMERA & GRID & SCRAPBOOK  ART_AND_DESIGN    4.1   \n",
              "1                                COLORING BOOK MOANA  ART_AND_DESIGN    3.9   \n",
              "2  U LAUNCHER LITE – FREE LIVE COOL THEMES, HIDE ...  ART_AND_DESIGN    4.7   \n",
              "3                              SKETCH - DRAW & PAINT  ART_AND_DESIGN    4.5   \n",
              "4              PIXEL DRAW - NUMBER ART COLORING BOOK  ART_AND_DESIGN    4.3   \n",
              "\n",
              "  reviews  size     installs  type price content_rating  \\\n",
              "0     159   19M      10,000+  FREE     0       EVERYONE   \n",
              "1     967   14M     500,000+  FREE     0       EVERYONE   \n",
              "2   87510  8.7M   5,000,000+  FREE     0       EVERYONE   \n",
              "3  215644   25M  50,000,000+  FREE     0           TEEN   \n",
              "4     967  2.8M     100,000+  FREE     0       EVERYONE   \n",
              "\n",
              "                      genres      last_updated         current_ver  \\\n",
              "0               ART & DESIGN   JANUARY 7, 2018               1.0.0   \n",
              "1  ART & DESIGN;PRETEND PLAY  JANUARY 15, 2018               2.0.0   \n",
              "2               ART & DESIGN    AUGUST 1, 2018               1.2.4   \n",
              "3               ART & DESIGN      JUNE 8, 2018  VARIES WITH DEVICE   \n",
              "4    ART & DESIGN;CREATIVITY     JUNE 20, 2018                 1.1   \n",
              "\n",
              "    android_ver  \n",
              "0  4.0.3 AND UP  \n",
              "1  4.0.3 AND UP  \n",
              "2  4.0.3 AND UP  \n",
              "3    4.2 AND UP  \n",
              "4    4.4 AND UP  "
            ],
            "text/html": [
              "\n",
              "  <div id=\"df-ef2ebddc-891c-4139-b4a4-12069445b1cf\">\n",
              "    <div class=\"colab-df-container\">\n",
              "      <div>\n",
              "<style scoped>\n",
              "    .dataframe tbody tr th:only-of-type {\n",
              "        vertical-align: middle;\n",
              "    }\n",
              "\n",
              "    .dataframe tbody tr th {\n",
              "        vertical-align: top;\n",
              "    }\n",
              "\n",
              "    .dataframe thead th {\n",
              "        text-align: right;\n",
              "    }\n",
              "</style>\n",
              "<table border=\"1\" class=\"dataframe\">\n",
              "  <thead>\n",
              "    <tr style=\"text-align: right;\">\n",
              "      <th></th>\n",
              "      <th>app</th>\n",
              "      <th>category</th>\n",
              "      <th>rating</th>\n",
              "      <th>reviews</th>\n",
              "      <th>size</th>\n",
              "      <th>installs</th>\n",
              "      <th>type</th>\n",
              "      <th>price</th>\n",
              "      <th>content_rating</th>\n",
              "      <th>genres</th>\n",
              "      <th>last_updated</th>\n",
              "      <th>current_ver</th>\n",
              "      <th>android_ver</th>\n",
              "    </tr>\n",
              "  </thead>\n",
              "  <tbody>\n",
              "    <tr>\n",
              "      <th>0</th>\n",
              "      <td>PHOTO EDITOR &amp; CANDY CAMERA &amp; GRID &amp; SCRAPBOOK</td>\n",
              "      <td>ART_AND_DESIGN</td>\n",
              "      <td>4.1</td>\n",
              "      <td>159</td>\n",
              "      <td>19M</td>\n",
              "      <td>10,000+</td>\n",
              "      <td>FREE</td>\n",
              "      <td>0</td>\n",
              "      <td>EVERYONE</td>\n",
              "      <td>ART &amp; DESIGN</td>\n",
              "      <td>JANUARY 7, 2018</td>\n",
              "      <td>1.0.0</td>\n",
              "      <td>4.0.3 AND UP</td>\n",
              "    </tr>\n",
              "    <tr>\n",
              "      <th>1</th>\n",
              "      <td>COLORING BOOK MOANA</td>\n",
              "      <td>ART_AND_DESIGN</td>\n",
              "      <td>3.9</td>\n",
              "      <td>967</td>\n",
              "      <td>14M</td>\n",
              "      <td>500,000+</td>\n",
              "      <td>FREE</td>\n",
              "      <td>0</td>\n",
              "      <td>EVERYONE</td>\n",
              "      <td>ART &amp; DESIGN;PRETEND PLAY</td>\n",
              "      <td>JANUARY 15, 2018</td>\n",
              "      <td>2.0.0</td>\n",
              "      <td>4.0.3 AND UP</td>\n",
              "    </tr>\n",
              "    <tr>\n",
              "      <th>2</th>\n",
              "      <td>U LAUNCHER LITE – FREE LIVE COOL THEMES, HIDE ...</td>\n",
              "      <td>ART_AND_DESIGN</td>\n",
              "      <td>4.7</td>\n",
              "      <td>87510</td>\n",
              "      <td>8.7M</td>\n",
              "      <td>5,000,000+</td>\n",
              "      <td>FREE</td>\n",
              "      <td>0</td>\n",
              "      <td>EVERYONE</td>\n",
              "      <td>ART &amp; DESIGN</td>\n",
              "      <td>AUGUST 1, 2018</td>\n",
              "      <td>1.2.4</td>\n",
              "      <td>4.0.3 AND UP</td>\n",
              "    </tr>\n",
              "    <tr>\n",
              "      <th>3</th>\n",
              "      <td>SKETCH - DRAW &amp; PAINT</td>\n",
              "      <td>ART_AND_DESIGN</td>\n",
              "      <td>4.5</td>\n",
              "      <td>215644</td>\n",
              "      <td>25M</td>\n",
              "      <td>50,000,000+</td>\n",
              "      <td>FREE</td>\n",
              "      <td>0</td>\n",
              "      <td>TEEN</td>\n",
              "      <td>ART &amp; DESIGN</td>\n",
              "      <td>JUNE 8, 2018</td>\n",
              "      <td>VARIES WITH DEVICE</td>\n",
              "      <td>4.2 AND UP</td>\n",
              "    </tr>\n",
              "    <tr>\n",
              "      <th>4</th>\n",
              "      <td>PIXEL DRAW - NUMBER ART COLORING BOOK</td>\n",
              "      <td>ART_AND_DESIGN</td>\n",
              "      <td>4.3</td>\n",
              "      <td>967</td>\n",
              "      <td>2.8M</td>\n",
              "      <td>100,000+</td>\n",
              "      <td>FREE</td>\n",
              "      <td>0</td>\n",
              "      <td>EVERYONE</td>\n",
              "      <td>ART &amp; DESIGN;CREATIVITY</td>\n",
              "      <td>JUNE 20, 2018</td>\n",
              "      <td>1.1</td>\n",
              "      <td>4.4 AND UP</td>\n",
              "    </tr>\n",
              "  </tbody>\n",
              "</table>\n",
              "</div>\n",
              "      <button class=\"colab-df-convert\" onclick=\"convertToInteractive('df-ef2ebddc-891c-4139-b4a4-12069445b1cf')\"\n",
              "              title=\"Convert this dataframe to an interactive table.\"\n",
              "              style=\"display:none;\">\n",
              "        \n",
              "  <svg xmlns=\"http://www.w3.org/2000/svg\" height=\"24px\"viewBox=\"0 0 24 24\"\n",
              "       width=\"24px\">\n",
              "    <path d=\"M0 0h24v24H0V0z\" fill=\"none\"/>\n",
              "    <path d=\"M18.56 5.44l.94 2.06.94-2.06 2.06-.94-2.06-.94-.94-2.06-.94 2.06-2.06.94zm-11 1L8.5 8.5l.94-2.06 2.06-.94-2.06-.94L8.5 2.5l-.94 2.06-2.06.94zm10 10l.94 2.06.94-2.06 2.06-.94-2.06-.94-.94-2.06-.94 2.06-2.06.94z\"/><path d=\"M17.41 7.96l-1.37-1.37c-.4-.4-.92-.59-1.43-.59-.52 0-1.04.2-1.43.59L10.3 9.45l-7.72 7.72c-.78.78-.78 2.05 0 2.83L4 21.41c.39.39.9.59 1.41.59.51 0 1.02-.2 1.41-.59l7.78-7.78 2.81-2.81c.8-.78.8-2.07 0-2.86zM5.41 20L4 18.59l7.72-7.72 1.47 1.35L5.41 20z\"/>\n",
              "  </svg>\n",
              "      </button>\n",
              "      \n",
              "  <style>\n",
              "    .colab-df-container {\n",
              "      display:flex;\n",
              "      flex-wrap:wrap;\n",
              "      gap: 12px;\n",
              "    }\n",
              "\n",
              "    .colab-df-convert {\n",
              "      background-color: #E8F0FE;\n",
              "      border: none;\n",
              "      border-radius: 50%;\n",
              "      cursor: pointer;\n",
              "      display: none;\n",
              "      fill: #1967D2;\n",
              "      height: 32px;\n",
              "      padding: 0 0 0 0;\n",
              "      width: 32px;\n",
              "    }\n",
              "\n",
              "    .colab-df-convert:hover {\n",
              "      background-color: #E2EBFA;\n",
              "      box-shadow: 0px 1px 2px rgba(60, 64, 67, 0.3), 0px 1px 3px 1px rgba(60, 64, 67, 0.15);\n",
              "      fill: #174EA6;\n",
              "    }\n",
              "\n",
              "    [theme=dark] .colab-df-convert {\n",
              "      background-color: #3B4455;\n",
              "      fill: #D2E3FC;\n",
              "    }\n",
              "\n",
              "    [theme=dark] .colab-df-convert:hover {\n",
              "      background-color: #434B5C;\n",
              "      box-shadow: 0px 1px 3px 1px rgba(0, 0, 0, 0.15);\n",
              "      filter: drop-shadow(0px 1px 2px rgba(0, 0, 0, 0.3));\n",
              "      fill: #FFFFFF;\n",
              "    }\n",
              "  </style>\n",
              "\n",
              "      <script>\n",
              "        const buttonEl =\n",
              "          document.querySelector('#df-ef2ebddc-891c-4139-b4a4-12069445b1cf button.colab-df-convert');\n",
              "        buttonEl.style.display =\n",
              "          google.colab.kernel.accessAllowed ? 'block' : 'none';\n",
              "\n",
              "        async function convertToInteractive(key) {\n",
              "          const element = document.querySelector('#df-ef2ebddc-891c-4139-b4a4-12069445b1cf');\n",
              "          const dataTable =\n",
              "            await google.colab.kernel.invokeFunction('convertToInteractive',\n",
              "                                                     [key], {});\n",
              "          if (!dataTable) return;\n",
              "\n",
              "          const docLinkHtml = 'Like what you see? Visit the ' +\n",
              "            '<a target=\"_blank\" href=https://colab.research.google.com/notebooks/data_table.ipynb>data table notebook</a>'\n",
              "            + ' to learn more about interactive tables.';\n",
              "          element.innerHTML = '';\n",
              "          dataTable['output_type'] = 'display_data';\n",
              "          await google.colab.output.renderOutput(dataTable, element);\n",
              "          const docLink = document.createElement('div');\n",
              "          docLink.innerHTML = docLinkHtml;\n",
              "          element.appendChild(docLink);\n",
              "        }\n",
              "      </script>\n",
              "    </div>\n",
              "  </div>\n",
              "  "
            ]
          },
          "metadata": {},
          "execution_count": 8
        }
      ]
    },
    {
      "cell_type": "code",
      "source": [
        "\n"
      ],
      "metadata": {
        "id": "2S9-eKhJUtYf"
      },
      "execution_count": null,
      "outputs": []
    },
    {
      "cell_type": "markdown",
      "source": [
        "# Size\n",
        "We need to see what letters there are in the size column so that we can normalize the data.\n",
        "\n",
        "We know that 1 MB = 1024 KB.\n",
        "\n",
        "print(df['size'].str.replace('\\d+', '').unique())\n",
        "['M' '.M' 'VARIES WITH DEVICE' 'K' '.K' ',+']\n",
        "\n",
        "  \"\"\"Entry point for launching an IPython kernel.\n",
        "\n",
        "   From the code above, we can see that we have our size data in the form of megabytes, kilobytes and unknown."
      ],
      "metadata": {
        "id": "HPkRJbFDVVZD"
      }
    },
    {
      "cell_type": "code",
      "source": [
        "df.loc[df['size'].str.contains('M'),].head()"
      ],
      "metadata": {
        "colab": {
          "base_uri": "https://localhost:8080/",
          "height": 583
        },
        "id": "teqPgf5LWtDi",
        "outputId": "9aadea0f-ebc3-42d8-f4ac-05bac57ab78a"
      },
      "execution_count": null,
      "outputs": [
        {
          "output_type": "execute_result",
          "data": {
            "text/plain": [
              "                                                 app        category rating  \\\n",
              "0     PHOTO EDITOR & CANDY CAMERA & GRID & SCRAPBOOK  ART_AND_DESIGN    4.1   \n",
              "1                                COLORING BOOK MOANA  ART_AND_DESIGN    3.9   \n",
              "2  U LAUNCHER LITE – FREE LIVE COOL THEMES, HIDE ...  ART_AND_DESIGN    4.7   \n",
              "3                              SKETCH - DRAW & PAINT  ART_AND_DESIGN    4.5   \n",
              "4              PIXEL DRAW - NUMBER ART COLORING BOOK  ART_AND_DESIGN    4.3   \n",
              "\n",
              "  reviews  size     installs  type price content_rating  \\\n",
              "0     159   19M      10,000+  FREE     0       EVERYONE   \n",
              "1     967   14M     500,000+  FREE     0       EVERYONE   \n",
              "2   87510  8.7M   5,000,000+  FREE     0       EVERYONE   \n",
              "3  215644   25M  50,000,000+  FREE     0           TEEN   \n",
              "4     967  2.8M     100,000+  FREE     0       EVERYONE   \n",
              "\n",
              "                      genres      last_updated         current_ver  \\\n",
              "0               ART & DESIGN   JANUARY 7, 2018               1.0.0   \n",
              "1  ART & DESIGN;PRETEND PLAY  JANUARY 15, 2018               2.0.0   \n",
              "2               ART & DESIGN    AUGUST 1, 2018               1.2.4   \n",
              "3               ART & DESIGN      JUNE 8, 2018  VARIES WITH DEVICE   \n",
              "4    ART & DESIGN;CREATIVITY     JUNE 20, 2018                 1.1   \n",
              "\n",
              "    android_ver  \n",
              "0  4.0.3 AND UP  \n",
              "1  4.0.3 AND UP  \n",
              "2  4.0.3 AND UP  \n",
              "3    4.2 AND UP  \n",
              "4    4.4 AND UP  "
            ],
            "text/html": [
              "\n",
              "  <div id=\"df-5150db4f-7dbf-41c3-9ebe-0e5088341a6d\">\n",
              "    <div class=\"colab-df-container\">\n",
              "      <div>\n",
              "<style scoped>\n",
              "    .dataframe tbody tr th:only-of-type {\n",
              "        vertical-align: middle;\n",
              "    }\n",
              "\n",
              "    .dataframe tbody tr th {\n",
              "        vertical-align: top;\n",
              "    }\n",
              "\n",
              "    .dataframe thead th {\n",
              "        text-align: right;\n",
              "    }\n",
              "</style>\n",
              "<table border=\"1\" class=\"dataframe\">\n",
              "  <thead>\n",
              "    <tr style=\"text-align: right;\">\n",
              "      <th></th>\n",
              "      <th>app</th>\n",
              "      <th>category</th>\n",
              "      <th>rating</th>\n",
              "      <th>reviews</th>\n",
              "      <th>size</th>\n",
              "      <th>installs</th>\n",
              "      <th>type</th>\n",
              "      <th>price</th>\n",
              "      <th>content_rating</th>\n",
              "      <th>genres</th>\n",
              "      <th>last_updated</th>\n",
              "      <th>current_ver</th>\n",
              "      <th>android_ver</th>\n",
              "    </tr>\n",
              "  </thead>\n",
              "  <tbody>\n",
              "    <tr>\n",
              "      <th>0</th>\n",
              "      <td>PHOTO EDITOR &amp; CANDY CAMERA &amp; GRID &amp; SCRAPBOOK</td>\n",
              "      <td>ART_AND_DESIGN</td>\n",
              "      <td>4.1</td>\n",
              "      <td>159</td>\n",
              "      <td>19M</td>\n",
              "      <td>10,000+</td>\n",
              "      <td>FREE</td>\n",
              "      <td>0</td>\n",
              "      <td>EVERYONE</td>\n",
              "      <td>ART &amp; DESIGN</td>\n",
              "      <td>JANUARY 7, 2018</td>\n",
              "      <td>1.0.0</td>\n",
              "      <td>4.0.3 AND UP</td>\n",
              "    </tr>\n",
              "    <tr>\n",
              "      <th>1</th>\n",
              "      <td>COLORING BOOK MOANA</td>\n",
              "      <td>ART_AND_DESIGN</td>\n",
              "      <td>3.9</td>\n",
              "      <td>967</td>\n",
              "      <td>14M</td>\n",
              "      <td>500,000+</td>\n",
              "      <td>FREE</td>\n",
              "      <td>0</td>\n",
              "      <td>EVERYONE</td>\n",
              "      <td>ART &amp; DESIGN;PRETEND PLAY</td>\n",
              "      <td>JANUARY 15, 2018</td>\n",
              "      <td>2.0.0</td>\n",
              "      <td>4.0.3 AND UP</td>\n",
              "    </tr>\n",
              "    <tr>\n",
              "      <th>2</th>\n",
              "      <td>U LAUNCHER LITE – FREE LIVE COOL THEMES, HIDE ...</td>\n",
              "      <td>ART_AND_DESIGN</td>\n",
              "      <td>4.7</td>\n",
              "      <td>87510</td>\n",
              "      <td>8.7M</td>\n",
              "      <td>5,000,000+</td>\n",
              "      <td>FREE</td>\n",
              "      <td>0</td>\n",
              "      <td>EVERYONE</td>\n",
              "      <td>ART &amp; DESIGN</td>\n",
              "      <td>AUGUST 1, 2018</td>\n",
              "      <td>1.2.4</td>\n",
              "      <td>4.0.3 AND UP</td>\n",
              "    </tr>\n",
              "    <tr>\n",
              "      <th>3</th>\n",
              "      <td>SKETCH - DRAW &amp; PAINT</td>\n",
              "      <td>ART_AND_DESIGN</td>\n",
              "      <td>4.5</td>\n",
              "      <td>215644</td>\n",
              "      <td>25M</td>\n",
              "      <td>50,000,000+</td>\n",
              "      <td>FREE</td>\n",
              "      <td>0</td>\n",
              "      <td>TEEN</td>\n",
              "      <td>ART &amp; DESIGN</td>\n",
              "      <td>JUNE 8, 2018</td>\n",
              "      <td>VARIES WITH DEVICE</td>\n",
              "      <td>4.2 AND UP</td>\n",
              "    </tr>\n",
              "    <tr>\n",
              "      <th>4</th>\n",
              "      <td>PIXEL DRAW - NUMBER ART COLORING BOOK</td>\n",
              "      <td>ART_AND_DESIGN</td>\n",
              "      <td>4.3</td>\n",
              "      <td>967</td>\n",
              "      <td>2.8M</td>\n",
              "      <td>100,000+</td>\n",
              "      <td>FREE</td>\n",
              "      <td>0</td>\n",
              "      <td>EVERYONE</td>\n",
              "      <td>ART &amp; DESIGN;CREATIVITY</td>\n",
              "      <td>JUNE 20, 2018</td>\n",
              "      <td>1.1</td>\n",
              "      <td>4.4 AND UP</td>\n",
              "    </tr>\n",
              "  </tbody>\n",
              "</table>\n",
              "</div>\n",
              "      <button class=\"colab-df-convert\" onclick=\"convertToInteractive('df-5150db4f-7dbf-41c3-9ebe-0e5088341a6d')\"\n",
              "              title=\"Convert this dataframe to an interactive table.\"\n",
              "              style=\"display:none;\">\n",
              "        \n",
              "  <svg xmlns=\"http://www.w3.org/2000/svg\" height=\"24px\"viewBox=\"0 0 24 24\"\n",
              "       width=\"24px\">\n",
              "    <path d=\"M0 0h24v24H0V0z\" fill=\"none\"/>\n",
              "    <path d=\"M18.56 5.44l.94 2.06.94-2.06 2.06-.94-2.06-.94-.94-2.06-.94 2.06-2.06.94zm-11 1L8.5 8.5l.94-2.06 2.06-.94-2.06-.94L8.5 2.5l-.94 2.06-2.06.94zm10 10l.94 2.06.94-2.06 2.06-.94-2.06-.94-.94-2.06-.94 2.06-2.06.94z\"/><path d=\"M17.41 7.96l-1.37-1.37c-.4-.4-.92-.59-1.43-.59-.52 0-1.04.2-1.43.59L10.3 9.45l-7.72 7.72c-.78.78-.78 2.05 0 2.83L4 21.41c.39.39.9.59 1.41.59.51 0 1.02-.2 1.41-.59l7.78-7.78 2.81-2.81c.8-.78.8-2.07 0-2.86zM5.41 20L4 18.59l7.72-7.72 1.47 1.35L5.41 20z\"/>\n",
              "  </svg>\n",
              "      </button>\n",
              "      \n",
              "  <style>\n",
              "    .colab-df-container {\n",
              "      display:flex;\n",
              "      flex-wrap:wrap;\n",
              "      gap: 12px;\n",
              "    }\n",
              "\n",
              "    .colab-df-convert {\n",
              "      background-color: #E8F0FE;\n",
              "      border: none;\n",
              "      border-radius: 50%;\n",
              "      cursor: pointer;\n",
              "      display: none;\n",
              "      fill: #1967D2;\n",
              "      height: 32px;\n",
              "      padding: 0 0 0 0;\n",
              "      width: 32px;\n",
              "    }\n",
              "\n",
              "    .colab-df-convert:hover {\n",
              "      background-color: #E2EBFA;\n",
              "      box-shadow: 0px 1px 2px rgba(60, 64, 67, 0.3), 0px 1px 3px 1px rgba(60, 64, 67, 0.15);\n",
              "      fill: #174EA6;\n",
              "    }\n",
              "\n",
              "    [theme=dark] .colab-df-convert {\n",
              "      background-color: #3B4455;\n",
              "      fill: #D2E3FC;\n",
              "    }\n",
              "\n",
              "    [theme=dark] .colab-df-convert:hover {\n",
              "      background-color: #434B5C;\n",
              "      box-shadow: 0px 1px 3px 1px rgba(0, 0, 0, 0.15);\n",
              "      filter: drop-shadow(0px 1px 2px rgba(0, 0, 0, 0.3));\n",
              "      fill: #FFFFFF;\n",
              "    }\n",
              "  </style>\n",
              "\n",
              "      <script>\n",
              "        const buttonEl =\n",
              "          document.querySelector('#df-5150db4f-7dbf-41c3-9ebe-0e5088341a6d button.colab-df-convert');\n",
              "        buttonEl.style.display =\n",
              "          google.colab.kernel.accessAllowed ? 'block' : 'none';\n",
              "\n",
              "        async function convertToInteractive(key) {\n",
              "          const element = document.querySelector('#df-5150db4f-7dbf-41c3-9ebe-0e5088341a6d');\n",
              "          const dataTable =\n",
              "            await google.colab.kernel.invokeFunction('convertToInteractive',\n",
              "                                                     [key], {});\n",
              "          if (!dataTable) return;\n",
              "\n",
              "          const docLinkHtml = 'Like what you see? Visit the ' +\n",
              "            '<a target=\"_blank\" href=https://colab.research.google.com/notebooks/data_table.ipynb>data table notebook</a>'\n",
              "            + ' to learn more about interactive tables.';\n",
              "          element.innerHTML = '';\n",
              "          dataTable['output_type'] = 'display_data';\n",
              "          await google.colab.output.renderOutput(dataTable, element);\n",
              "          const docLink = document.createElement('div');\n",
              "          docLink.innerHTML = docLinkHtml;\n",
              "          element.appendChild(docLink);\n",
              "        }\n",
              "      </script>\n",
              "    </div>\n",
              "  </div>\n",
              "  "
            ]
          },
          "metadata": {},
          "execution_count": 9
        }
      ]
    },
    {
      "cell_type": "code",
      "source": [
        "# converting mb to kb\n",
        "\n",
        "def convert_mb_kb(df):\n",
        "    df.loc[df['size'].str.contains('M'),'size'] = df.loc[df['size'].str.contains('M'),'size'].str.rstrip('M').astype(float) * 1024\n",
        "\n",
        "convert_mb_kb(df)"
      ],
      "metadata": {
        "id": "_bkDYgrWWtTE"
      },
      "execution_count": null,
      "outputs": []
    },
    {
      "cell_type": "code",
      "source": [
        "df.head()"
      ],
      "metadata": {
        "colab": {
          "base_uri": "https://localhost:8080/",
          "height": 583
        },
        "id": "Tpj7UuA9W8iv",
        "outputId": "1acf5829-4d75-444c-85e2-479ed562b209"
      },
      "execution_count": null,
      "outputs": [
        {
          "output_type": "execute_result",
          "data": {
            "text/plain": [
              "                                                 app        category rating  \\\n",
              "0     PHOTO EDITOR & CANDY CAMERA & GRID & SCRAPBOOK  ART_AND_DESIGN    4.1   \n",
              "1                                COLORING BOOK MOANA  ART_AND_DESIGN    3.9   \n",
              "2  U LAUNCHER LITE – FREE LIVE COOL THEMES, HIDE ...  ART_AND_DESIGN    4.7   \n",
              "3                              SKETCH - DRAW & PAINT  ART_AND_DESIGN    4.5   \n",
              "4              PIXEL DRAW - NUMBER ART COLORING BOOK  ART_AND_DESIGN    4.3   \n",
              "\n",
              "  reviews     size     installs  type price content_rating  \\\n",
              "0     159  19456.0      10,000+  FREE     0       EVERYONE   \n",
              "1     967  14336.0     500,000+  FREE     0       EVERYONE   \n",
              "2   87510   8908.8   5,000,000+  FREE     0       EVERYONE   \n",
              "3  215644  25600.0  50,000,000+  FREE     0           TEEN   \n",
              "4     967   2867.2     100,000+  FREE     0       EVERYONE   \n",
              "\n",
              "                      genres      last_updated         current_ver  \\\n",
              "0               ART & DESIGN   JANUARY 7, 2018               1.0.0   \n",
              "1  ART & DESIGN;PRETEND PLAY  JANUARY 15, 2018               2.0.0   \n",
              "2               ART & DESIGN    AUGUST 1, 2018               1.2.4   \n",
              "3               ART & DESIGN      JUNE 8, 2018  VARIES WITH DEVICE   \n",
              "4    ART & DESIGN;CREATIVITY     JUNE 20, 2018                 1.1   \n",
              "\n",
              "    android_ver  \n",
              "0  4.0.3 AND UP  \n",
              "1  4.0.3 AND UP  \n",
              "2  4.0.3 AND UP  \n",
              "3    4.2 AND UP  \n",
              "4    4.4 AND UP  "
            ],
            "text/html": [
              "\n",
              "  <div id=\"df-e6543046-be29-47cd-98a1-050259ca8e42\">\n",
              "    <div class=\"colab-df-container\">\n",
              "      <div>\n",
              "<style scoped>\n",
              "    .dataframe tbody tr th:only-of-type {\n",
              "        vertical-align: middle;\n",
              "    }\n",
              "\n",
              "    .dataframe tbody tr th {\n",
              "        vertical-align: top;\n",
              "    }\n",
              "\n",
              "    .dataframe thead th {\n",
              "        text-align: right;\n",
              "    }\n",
              "</style>\n",
              "<table border=\"1\" class=\"dataframe\">\n",
              "  <thead>\n",
              "    <tr style=\"text-align: right;\">\n",
              "      <th></th>\n",
              "      <th>app</th>\n",
              "      <th>category</th>\n",
              "      <th>rating</th>\n",
              "      <th>reviews</th>\n",
              "      <th>size</th>\n",
              "      <th>installs</th>\n",
              "      <th>type</th>\n",
              "      <th>price</th>\n",
              "      <th>content_rating</th>\n",
              "      <th>genres</th>\n",
              "      <th>last_updated</th>\n",
              "      <th>current_ver</th>\n",
              "      <th>android_ver</th>\n",
              "    </tr>\n",
              "  </thead>\n",
              "  <tbody>\n",
              "    <tr>\n",
              "      <th>0</th>\n",
              "      <td>PHOTO EDITOR &amp; CANDY CAMERA &amp; GRID &amp; SCRAPBOOK</td>\n",
              "      <td>ART_AND_DESIGN</td>\n",
              "      <td>4.1</td>\n",
              "      <td>159</td>\n",
              "      <td>19456.0</td>\n",
              "      <td>10,000+</td>\n",
              "      <td>FREE</td>\n",
              "      <td>0</td>\n",
              "      <td>EVERYONE</td>\n",
              "      <td>ART &amp; DESIGN</td>\n",
              "      <td>JANUARY 7, 2018</td>\n",
              "      <td>1.0.0</td>\n",
              "      <td>4.0.3 AND UP</td>\n",
              "    </tr>\n",
              "    <tr>\n",
              "      <th>1</th>\n",
              "      <td>COLORING BOOK MOANA</td>\n",
              "      <td>ART_AND_DESIGN</td>\n",
              "      <td>3.9</td>\n",
              "      <td>967</td>\n",
              "      <td>14336.0</td>\n",
              "      <td>500,000+</td>\n",
              "      <td>FREE</td>\n",
              "      <td>0</td>\n",
              "      <td>EVERYONE</td>\n",
              "      <td>ART &amp; DESIGN;PRETEND PLAY</td>\n",
              "      <td>JANUARY 15, 2018</td>\n",
              "      <td>2.0.0</td>\n",
              "      <td>4.0.3 AND UP</td>\n",
              "    </tr>\n",
              "    <tr>\n",
              "      <th>2</th>\n",
              "      <td>U LAUNCHER LITE – FREE LIVE COOL THEMES, HIDE ...</td>\n",
              "      <td>ART_AND_DESIGN</td>\n",
              "      <td>4.7</td>\n",
              "      <td>87510</td>\n",
              "      <td>8908.8</td>\n",
              "      <td>5,000,000+</td>\n",
              "      <td>FREE</td>\n",
              "      <td>0</td>\n",
              "      <td>EVERYONE</td>\n",
              "      <td>ART &amp; DESIGN</td>\n",
              "      <td>AUGUST 1, 2018</td>\n",
              "      <td>1.2.4</td>\n",
              "      <td>4.0.3 AND UP</td>\n",
              "    </tr>\n",
              "    <tr>\n",
              "      <th>3</th>\n",
              "      <td>SKETCH - DRAW &amp; PAINT</td>\n",
              "      <td>ART_AND_DESIGN</td>\n",
              "      <td>4.5</td>\n",
              "      <td>215644</td>\n",
              "      <td>25600.0</td>\n",
              "      <td>50,000,000+</td>\n",
              "      <td>FREE</td>\n",
              "      <td>0</td>\n",
              "      <td>TEEN</td>\n",
              "      <td>ART &amp; DESIGN</td>\n",
              "      <td>JUNE 8, 2018</td>\n",
              "      <td>VARIES WITH DEVICE</td>\n",
              "      <td>4.2 AND UP</td>\n",
              "    </tr>\n",
              "    <tr>\n",
              "      <th>4</th>\n",
              "      <td>PIXEL DRAW - NUMBER ART COLORING BOOK</td>\n",
              "      <td>ART_AND_DESIGN</td>\n",
              "      <td>4.3</td>\n",
              "      <td>967</td>\n",
              "      <td>2867.2</td>\n",
              "      <td>100,000+</td>\n",
              "      <td>FREE</td>\n",
              "      <td>0</td>\n",
              "      <td>EVERYONE</td>\n",
              "      <td>ART &amp; DESIGN;CREATIVITY</td>\n",
              "      <td>JUNE 20, 2018</td>\n",
              "      <td>1.1</td>\n",
              "      <td>4.4 AND UP</td>\n",
              "    </tr>\n",
              "  </tbody>\n",
              "</table>\n",
              "</div>\n",
              "      <button class=\"colab-df-convert\" onclick=\"convertToInteractive('df-e6543046-be29-47cd-98a1-050259ca8e42')\"\n",
              "              title=\"Convert this dataframe to an interactive table.\"\n",
              "              style=\"display:none;\">\n",
              "        \n",
              "  <svg xmlns=\"http://www.w3.org/2000/svg\" height=\"24px\"viewBox=\"0 0 24 24\"\n",
              "       width=\"24px\">\n",
              "    <path d=\"M0 0h24v24H0V0z\" fill=\"none\"/>\n",
              "    <path d=\"M18.56 5.44l.94 2.06.94-2.06 2.06-.94-2.06-.94-.94-2.06-.94 2.06-2.06.94zm-11 1L8.5 8.5l.94-2.06 2.06-.94-2.06-.94L8.5 2.5l-.94 2.06-2.06.94zm10 10l.94 2.06.94-2.06 2.06-.94-2.06-.94-.94-2.06-.94 2.06-2.06.94z\"/><path d=\"M17.41 7.96l-1.37-1.37c-.4-.4-.92-.59-1.43-.59-.52 0-1.04.2-1.43.59L10.3 9.45l-7.72 7.72c-.78.78-.78 2.05 0 2.83L4 21.41c.39.39.9.59 1.41.59.51 0 1.02-.2 1.41-.59l7.78-7.78 2.81-2.81c.8-.78.8-2.07 0-2.86zM5.41 20L4 18.59l7.72-7.72 1.47 1.35L5.41 20z\"/>\n",
              "  </svg>\n",
              "      </button>\n",
              "      \n",
              "  <style>\n",
              "    .colab-df-container {\n",
              "      display:flex;\n",
              "      flex-wrap:wrap;\n",
              "      gap: 12px;\n",
              "    }\n",
              "\n",
              "    .colab-df-convert {\n",
              "      background-color: #E8F0FE;\n",
              "      border: none;\n",
              "      border-radius: 50%;\n",
              "      cursor: pointer;\n",
              "      display: none;\n",
              "      fill: #1967D2;\n",
              "      height: 32px;\n",
              "      padding: 0 0 0 0;\n",
              "      width: 32px;\n",
              "    }\n",
              "\n",
              "    .colab-df-convert:hover {\n",
              "      background-color: #E2EBFA;\n",
              "      box-shadow: 0px 1px 2px rgba(60, 64, 67, 0.3), 0px 1px 3px 1px rgba(60, 64, 67, 0.15);\n",
              "      fill: #174EA6;\n",
              "    }\n",
              "\n",
              "    [theme=dark] .colab-df-convert {\n",
              "      background-color: #3B4455;\n",
              "      fill: #D2E3FC;\n",
              "    }\n",
              "\n",
              "    [theme=dark] .colab-df-convert:hover {\n",
              "      background-color: #434B5C;\n",
              "      box-shadow: 0px 1px 3px 1px rgba(0, 0, 0, 0.15);\n",
              "      filter: drop-shadow(0px 1px 2px rgba(0, 0, 0, 0.3));\n",
              "      fill: #FFFFFF;\n",
              "    }\n",
              "  </style>\n",
              "\n",
              "      <script>\n",
              "        const buttonEl =\n",
              "          document.querySelector('#df-e6543046-be29-47cd-98a1-050259ca8e42 button.colab-df-convert');\n",
              "        buttonEl.style.display =\n",
              "          google.colab.kernel.accessAllowed ? 'block' : 'none';\n",
              "\n",
              "        async function convertToInteractive(key) {\n",
              "          const element = document.querySelector('#df-e6543046-be29-47cd-98a1-050259ca8e42');\n",
              "          const dataTable =\n",
              "            await google.colab.kernel.invokeFunction('convertToInteractive',\n",
              "                                                     [key], {});\n",
              "          if (!dataTable) return;\n",
              "\n",
              "          const docLinkHtml = 'Like what you see? Visit the ' +\n",
              "            '<a target=\"_blank\" href=https://colab.research.google.com/notebooks/data_table.ipynb>data table notebook</a>'\n",
              "            + ' to learn more about interactive tables.';\n",
              "          element.innerHTML = '';\n",
              "          dataTable['output_type'] = 'display_data';\n",
              "          await google.colab.output.renderOutput(dataTable, element);\n",
              "          const docLink = document.createElement('div');\n",
              "          docLink.innerHTML = docLinkHtml;\n",
              "          element.appendChild(docLink);\n",
              "        }\n",
              "      </script>\n",
              "    </div>\n",
              "  </div>\n",
              "  "
            ]
          },
          "metadata": {},
          "execution_count": 11
        }
      ]
    },
    {
      "cell_type": "code",
      "source": [
        "# Lets look at all our unique letters now\n",
        "\n",
        "print(df['size'].astype(str).str.replace('\\d+', '').unique())"
      ],
      "metadata": {
        "colab": {
          "base_uri": "https://localhost:8080/"
        },
        "id": "yt2QepXfW8oQ",
        "outputId": "186b91e6-364e-44ce-a490-5130012518bc"
      },
      "execution_count": null,
      "outputs": [
        {
          "output_type": "stream",
          "name": "stdout",
          "text": [
            "['.' 'VARIES WITH DEVICE' 'K' '.K' ',+']\n"
          ]
        },
        {
          "output_type": "stream",
          "name": "stderr",
          "text": [
            "/usr/local/lib/python3.7/dist-packages/ipykernel_launcher.py:3: FutureWarning: The default value of regex will change from True to False in a future version.\n",
            "  This is separate from the ipykernel package so we can avoid doing imports until\n"
          ]
        }
      ]
    },
    {
      "cell_type": "markdown",
      "source": [
        "Now we can simply remove the K and change the size column to say \"size (in kb)\" for clarity,"
      ],
      "metadata": {
        "id": "ihxpzaDyd22b"
      }
    },
    {
      "cell_type": "code",
      "source": [
        "df.loc[df['size'].astype(str).str.contains('K'), 'size'] = df.loc[df['size'].astype(str).str.contains('K'), 'size'].str.replace('K', '')"
      ],
      "metadata": {
        "id": "4KtydbwGW8rv"
      },
      "execution_count": null,
      "outputs": []
    },
    {
      "cell_type": "code",
      "source": [
        "# we can see that there are now no more values containing the letter K\n",
        "df.loc[df['size'].astype(str).str.contains('K'), 'size']\n",
        "\n"
      ],
      "metadata": {
        "colab": {
          "base_uri": "https://localhost:8080/"
        },
        "id": "j019qsv-d-36",
        "outputId": "7e3a0b52-6561-472d-be35-c5e3b179903b"
      },
      "execution_count": null,
      "outputs": [
        {
          "output_type": "execute_result",
          "data": {
            "text/plain": [
              "Series([], Name: size, dtype: object)"
            ]
          },
          "metadata": {},
          "execution_count": 14
        }
      ]
    },
    {
      "cell_type": "code",
      "source": [
        "# adding clarify to the size column\n",
        "\n",
        "df.rename(columns = {'size': 'size(kb)'}, inplace=True)"
      ],
      "metadata": {
        "id": "_6wi02cweVcj"
      },
      "execution_count": null,
      "outputs": []
    },
    {
      "cell_type": "code",
      "source": [
        "# check\n",
        "\n",
        "df.columns"
      ],
      "metadata": {
        "colab": {
          "base_uri": "https://localhost:8080/"
        },
        "id": "i_Ly88lMehqt",
        "outputId": "9c507bb2-6b6f-4544-d9f4-fe7e79c573fa"
      },
      "execution_count": null,
      "outputs": [
        {
          "output_type": "execute_result",
          "data": {
            "text/plain": [
              "Index(['app', 'category', 'rating', 'reviews', 'size(kb)', 'installs', 'type',\n",
              "       'price', 'content_rating', 'genres', 'last_updated', 'current_ver',\n",
              "       'android_ver'],\n",
              "      dtype='object')"
            ]
          },
          "metadata": {},
          "execution_count": 16
        }
      ]
    },
    {
      "cell_type": "markdown",
      "source": [
        "We know that \"VARIES WITH DEVICE\" means unknown, or np.nan. So lets change replace those values."
      ],
      "metadata": {
        "id": "uW65eAo7ewKi"
      }
    },
    {
      "cell_type": "code",
      "source": [
        "df['size(kb)'].replace('VARIES WITH DEVICE', np.nan, inplace=True)"
      ],
      "metadata": {
        "id": "AixeTMv8enW8"
      },
      "execution_count": null,
      "outputs": []
    },
    {
      "cell_type": "code",
      "source": [
        "df.loc[df['size(kb)'].isnull(),]"
      ],
      "metadata": {
        "colab": {
          "base_uri": "https://localhost:8080/",
          "height": 887
        },
        "id": "O_JDHi5JfEJ1",
        "outputId": "2713e9a8-1361-4627-ea8e-4a69db65fcbe"
      },
      "execution_count": null,
      "outputs": [
        {
          "output_type": "execute_result",
          "data": {
            "text/plain": [
              "                                                     app             category  \\\n",
              "37                                    FLOOR PLAN CREATOR       ART_AND_DESIGN   \n",
              "42                            TEXTGRAM - WRITE ON PHOTOS       ART_AND_DESIGN   \n",
              "52                         USED CARS AND TRUCKS FOR SALE    AUTO_AND_VEHICLES   \n",
              "67                                    ULYSSE SPEEDOMETER    AUTO_AND_VEHICLES   \n",
              "68                                                REPUVE    AUTO_AND_VEHICLES   \n",
              "...                                                  ...                  ...   \n",
              "10713  MY EARTHQUAKE ALERTS - US & WORLDWIDE EARTHQUAKES              WEATHER   \n",
              "10725                                          POSTA APP  MAPS_AND_NAVIGATION   \n",
              "10765                    CHAT FOR STRANGERS - VIDEO CHAT               SOCIAL   \n",
              "10826          FRIM: GET NEW FRIENDS ON LOCAL CHAT ROOMS               SOCIAL   \n",
              "10839                      THE SCP FOUNDATION DB FR NN5N  BOOKS_AND_REFERENCE   \n",
              "\n",
              "      rating reviews size(kb)     installs  type price content_rating  \\\n",
              "37       4.1   36639      NaN   5,000,000+  FREE     0       EVERYONE   \n",
              "42       4.4  295221      NaN  10,000,000+  FREE     0       EVERYONE   \n",
              "52       4.6   17057      NaN   1,000,000+  FREE     0       EVERYONE   \n",
              "67       4.3   40211      NaN   5,000,000+  FREE     0       EVERYONE   \n",
              "68       3.9     356      NaN     100,000+  FREE     0       EVERYONE   \n",
              "...      ...     ...      ...          ...   ...   ...            ...   \n",
              "10713    4.4    3471      NaN     100,000+  FREE     0       EVERYONE   \n",
              "10725    3.6       8      NaN       1,000+  FREE     0       EVERYONE   \n",
              "10765    3.4     622      NaN     100,000+  FREE     0     MATURE 17+   \n",
              "10826    4.0   88486      NaN   5,000,000+  FREE     0     MATURE 17+   \n",
              "10839    4.5     114      NaN       1,000+  FREE     0     MATURE 17+   \n",
              "\n",
              "                  genres        last_updated         current_ver  \\\n",
              "37          ART & DESIGN       JULY 14, 2018  VARIES WITH DEVICE   \n",
              "42          ART & DESIGN       JULY 30, 2018  VARIES WITH DEVICE   \n",
              "52       AUTO & VEHICLES       JULY 30, 2018  VARIES WITH DEVICE   \n",
              "67       AUTO & VEHICLES       JULY 30, 2018  VARIES WITH DEVICE   \n",
              "68       AUTO & VEHICLES        MAY 25, 2018  VARIES WITH DEVICE   \n",
              "...                  ...                 ...                 ...   \n",
              "10713            WEATHER       JULY 24, 2018  VARIES WITH DEVICE   \n",
              "10725  MAPS & NAVIGATION  SEPTEMBER 27, 2017  VARIES WITH DEVICE   \n",
              "10765             SOCIAL        MAY 23, 2018  VARIES WITH DEVICE   \n",
              "10826             SOCIAL      MARCH 23, 2018  VARIES WITH DEVICE   \n",
              "10839  BOOKS & REFERENCE    JANUARY 19, 2015  VARIES WITH DEVICE   \n",
              "\n",
              "              android_ver  \n",
              "37           2.3.3 AND UP  \n",
              "42     VARIES WITH DEVICE  \n",
              "52     VARIES WITH DEVICE  \n",
              "67     VARIES WITH DEVICE  \n",
              "68     VARIES WITH DEVICE  \n",
              "...                   ...  \n",
              "10713  VARIES WITH DEVICE  \n",
              "10725          4.4 AND UP  \n",
              "10765  VARIES WITH DEVICE  \n",
              "10826  VARIES WITH DEVICE  \n",
              "10839  VARIES WITH DEVICE  \n",
              "\n",
              "[1695 rows x 13 columns]"
            ],
            "text/html": [
              "\n",
              "  <div id=\"df-bbcfb5bf-d6e2-4aba-bb14-f56861f63392\">\n",
              "    <div class=\"colab-df-container\">\n",
              "      <div>\n",
              "<style scoped>\n",
              "    .dataframe tbody tr th:only-of-type {\n",
              "        vertical-align: middle;\n",
              "    }\n",
              "\n",
              "    .dataframe tbody tr th {\n",
              "        vertical-align: top;\n",
              "    }\n",
              "\n",
              "    .dataframe thead th {\n",
              "        text-align: right;\n",
              "    }\n",
              "</style>\n",
              "<table border=\"1\" class=\"dataframe\">\n",
              "  <thead>\n",
              "    <tr style=\"text-align: right;\">\n",
              "      <th></th>\n",
              "      <th>app</th>\n",
              "      <th>category</th>\n",
              "      <th>rating</th>\n",
              "      <th>reviews</th>\n",
              "      <th>size(kb)</th>\n",
              "      <th>installs</th>\n",
              "      <th>type</th>\n",
              "      <th>price</th>\n",
              "      <th>content_rating</th>\n",
              "      <th>genres</th>\n",
              "      <th>last_updated</th>\n",
              "      <th>current_ver</th>\n",
              "      <th>android_ver</th>\n",
              "    </tr>\n",
              "  </thead>\n",
              "  <tbody>\n",
              "    <tr>\n",
              "      <th>37</th>\n",
              "      <td>FLOOR PLAN CREATOR</td>\n",
              "      <td>ART_AND_DESIGN</td>\n",
              "      <td>4.1</td>\n",
              "      <td>36639</td>\n",
              "      <td>NaN</td>\n",
              "      <td>5,000,000+</td>\n",
              "      <td>FREE</td>\n",
              "      <td>0</td>\n",
              "      <td>EVERYONE</td>\n",
              "      <td>ART &amp; DESIGN</td>\n",
              "      <td>JULY 14, 2018</td>\n",
              "      <td>VARIES WITH DEVICE</td>\n",
              "      <td>2.3.3 AND UP</td>\n",
              "    </tr>\n",
              "    <tr>\n",
              "      <th>42</th>\n",
              "      <td>TEXTGRAM - WRITE ON PHOTOS</td>\n",
              "      <td>ART_AND_DESIGN</td>\n",
              "      <td>4.4</td>\n",
              "      <td>295221</td>\n",
              "      <td>NaN</td>\n",
              "      <td>10,000,000+</td>\n",
              "      <td>FREE</td>\n",
              "      <td>0</td>\n",
              "      <td>EVERYONE</td>\n",
              "      <td>ART &amp; DESIGN</td>\n",
              "      <td>JULY 30, 2018</td>\n",
              "      <td>VARIES WITH DEVICE</td>\n",
              "      <td>VARIES WITH DEVICE</td>\n",
              "    </tr>\n",
              "    <tr>\n",
              "      <th>52</th>\n",
              "      <td>USED CARS AND TRUCKS FOR SALE</td>\n",
              "      <td>AUTO_AND_VEHICLES</td>\n",
              "      <td>4.6</td>\n",
              "      <td>17057</td>\n",
              "      <td>NaN</td>\n",
              "      <td>1,000,000+</td>\n",
              "      <td>FREE</td>\n",
              "      <td>0</td>\n",
              "      <td>EVERYONE</td>\n",
              "      <td>AUTO &amp; VEHICLES</td>\n",
              "      <td>JULY 30, 2018</td>\n",
              "      <td>VARIES WITH DEVICE</td>\n",
              "      <td>VARIES WITH DEVICE</td>\n",
              "    </tr>\n",
              "    <tr>\n",
              "      <th>67</th>\n",
              "      <td>ULYSSE SPEEDOMETER</td>\n",
              "      <td>AUTO_AND_VEHICLES</td>\n",
              "      <td>4.3</td>\n",
              "      <td>40211</td>\n",
              "      <td>NaN</td>\n",
              "      <td>5,000,000+</td>\n",
              "      <td>FREE</td>\n",
              "      <td>0</td>\n",
              "      <td>EVERYONE</td>\n",
              "      <td>AUTO &amp; VEHICLES</td>\n",
              "      <td>JULY 30, 2018</td>\n",
              "      <td>VARIES WITH DEVICE</td>\n",
              "      <td>VARIES WITH DEVICE</td>\n",
              "    </tr>\n",
              "    <tr>\n",
              "      <th>68</th>\n",
              "      <td>REPUVE</td>\n",
              "      <td>AUTO_AND_VEHICLES</td>\n",
              "      <td>3.9</td>\n",
              "      <td>356</td>\n",
              "      <td>NaN</td>\n",
              "      <td>100,000+</td>\n",
              "      <td>FREE</td>\n",
              "      <td>0</td>\n",
              "      <td>EVERYONE</td>\n",
              "      <td>AUTO &amp; VEHICLES</td>\n",
              "      <td>MAY 25, 2018</td>\n",
              "      <td>VARIES WITH DEVICE</td>\n",
              "      <td>VARIES WITH DEVICE</td>\n",
              "    </tr>\n",
              "    <tr>\n",
              "      <th>...</th>\n",
              "      <td>...</td>\n",
              "      <td>...</td>\n",
              "      <td>...</td>\n",
              "      <td>...</td>\n",
              "      <td>...</td>\n",
              "      <td>...</td>\n",
              "      <td>...</td>\n",
              "      <td>...</td>\n",
              "      <td>...</td>\n",
              "      <td>...</td>\n",
              "      <td>...</td>\n",
              "      <td>...</td>\n",
              "      <td>...</td>\n",
              "    </tr>\n",
              "    <tr>\n",
              "      <th>10713</th>\n",
              "      <td>MY EARTHQUAKE ALERTS - US &amp; WORLDWIDE EARTHQUAKES</td>\n",
              "      <td>WEATHER</td>\n",
              "      <td>4.4</td>\n",
              "      <td>3471</td>\n",
              "      <td>NaN</td>\n",
              "      <td>100,000+</td>\n",
              "      <td>FREE</td>\n",
              "      <td>0</td>\n",
              "      <td>EVERYONE</td>\n",
              "      <td>WEATHER</td>\n",
              "      <td>JULY 24, 2018</td>\n",
              "      <td>VARIES WITH DEVICE</td>\n",
              "      <td>VARIES WITH DEVICE</td>\n",
              "    </tr>\n",
              "    <tr>\n",
              "      <th>10725</th>\n",
              "      <td>POSTA APP</td>\n",
              "      <td>MAPS_AND_NAVIGATION</td>\n",
              "      <td>3.6</td>\n",
              "      <td>8</td>\n",
              "      <td>NaN</td>\n",
              "      <td>1,000+</td>\n",
              "      <td>FREE</td>\n",
              "      <td>0</td>\n",
              "      <td>EVERYONE</td>\n",
              "      <td>MAPS &amp; NAVIGATION</td>\n",
              "      <td>SEPTEMBER 27, 2017</td>\n",
              "      <td>VARIES WITH DEVICE</td>\n",
              "      <td>4.4 AND UP</td>\n",
              "    </tr>\n",
              "    <tr>\n",
              "      <th>10765</th>\n",
              "      <td>CHAT FOR STRANGERS - VIDEO CHAT</td>\n",
              "      <td>SOCIAL</td>\n",
              "      <td>3.4</td>\n",
              "      <td>622</td>\n",
              "      <td>NaN</td>\n",
              "      <td>100,000+</td>\n",
              "      <td>FREE</td>\n",
              "      <td>0</td>\n",
              "      <td>MATURE 17+</td>\n",
              "      <td>SOCIAL</td>\n",
              "      <td>MAY 23, 2018</td>\n",
              "      <td>VARIES WITH DEVICE</td>\n",
              "      <td>VARIES WITH DEVICE</td>\n",
              "    </tr>\n",
              "    <tr>\n",
              "      <th>10826</th>\n",
              "      <td>FRIM: GET NEW FRIENDS ON LOCAL CHAT ROOMS</td>\n",
              "      <td>SOCIAL</td>\n",
              "      <td>4.0</td>\n",
              "      <td>88486</td>\n",
              "      <td>NaN</td>\n",
              "      <td>5,000,000+</td>\n",
              "      <td>FREE</td>\n",
              "      <td>0</td>\n",
              "      <td>MATURE 17+</td>\n",
              "      <td>SOCIAL</td>\n",
              "      <td>MARCH 23, 2018</td>\n",
              "      <td>VARIES WITH DEVICE</td>\n",
              "      <td>VARIES WITH DEVICE</td>\n",
              "    </tr>\n",
              "    <tr>\n",
              "      <th>10839</th>\n",
              "      <td>THE SCP FOUNDATION DB FR NN5N</td>\n",
              "      <td>BOOKS_AND_REFERENCE</td>\n",
              "      <td>4.5</td>\n",
              "      <td>114</td>\n",
              "      <td>NaN</td>\n",
              "      <td>1,000+</td>\n",
              "      <td>FREE</td>\n",
              "      <td>0</td>\n",
              "      <td>MATURE 17+</td>\n",
              "      <td>BOOKS &amp; REFERENCE</td>\n",
              "      <td>JANUARY 19, 2015</td>\n",
              "      <td>VARIES WITH DEVICE</td>\n",
              "      <td>VARIES WITH DEVICE</td>\n",
              "    </tr>\n",
              "  </tbody>\n",
              "</table>\n",
              "<p>1695 rows × 13 columns</p>\n",
              "</div>\n",
              "      <button class=\"colab-df-convert\" onclick=\"convertToInteractive('df-bbcfb5bf-d6e2-4aba-bb14-f56861f63392')\"\n",
              "              title=\"Convert this dataframe to an interactive table.\"\n",
              "              style=\"display:none;\">\n",
              "        \n",
              "  <svg xmlns=\"http://www.w3.org/2000/svg\" height=\"24px\"viewBox=\"0 0 24 24\"\n",
              "       width=\"24px\">\n",
              "    <path d=\"M0 0h24v24H0V0z\" fill=\"none\"/>\n",
              "    <path d=\"M18.56 5.44l.94 2.06.94-2.06 2.06-.94-2.06-.94-.94-2.06-.94 2.06-2.06.94zm-11 1L8.5 8.5l.94-2.06 2.06-.94-2.06-.94L8.5 2.5l-.94 2.06-2.06.94zm10 10l.94 2.06.94-2.06 2.06-.94-2.06-.94-.94-2.06-.94 2.06-2.06.94z\"/><path d=\"M17.41 7.96l-1.37-1.37c-.4-.4-.92-.59-1.43-.59-.52 0-1.04.2-1.43.59L10.3 9.45l-7.72 7.72c-.78.78-.78 2.05 0 2.83L4 21.41c.39.39.9.59 1.41.59.51 0 1.02-.2 1.41-.59l7.78-7.78 2.81-2.81c.8-.78.8-2.07 0-2.86zM5.41 20L4 18.59l7.72-7.72 1.47 1.35L5.41 20z\"/>\n",
              "  </svg>\n",
              "      </button>\n",
              "      \n",
              "  <style>\n",
              "    .colab-df-container {\n",
              "      display:flex;\n",
              "      flex-wrap:wrap;\n",
              "      gap: 12px;\n",
              "    }\n",
              "\n",
              "    .colab-df-convert {\n",
              "      background-color: #E8F0FE;\n",
              "      border: none;\n",
              "      border-radius: 50%;\n",
              "      cursor: pointer;\n",
              "      display: none;\n",
              "      fill: #1967D2;\n",
              "      height: 32px;\n",
              "      padding: 0 0 0 0;\n",
              "      width: 32px;\n",
              "    }\n",
              "\n",
              "    .colab-df-convert:hover {\n",
              "      background-color: #E2EBFA;\n",
              "      box-shadow: 0px 1px 2px rgba(60, 64, 67, 0.3), 0px 1px 3px 1px rgba(60, 64, 67, 0.15);\n",
              "      fill: #174EA6;\n",
              "    }\n",
              "\n",
              "    [theme=dark] .colab-df-convert {\n",
              "      background-color: #3B4455;\n",
              "      fill: #D2E3FC;\n",
              "    }\n",
              "\n",
              "    [theme=dark] .colab-df-convert:hover {\n",
              "      background-color: #434B5C;\n",
              "      box-shadow: 0px 1px 3px 1px rgba(0, 0, 0, 0.15);\n",
              "      filter: drop-shadow(0px 1px 2px rgba(0, 0, 0, 0.3));\n",
              "      fill: #FFFFFF;\n",
              "    }\n",
              "  </style>\n",
              "\n",
              "      <script>\n",
              "        const buttonEl =\n",
              "          document.querySelector('#df-bbcfb5bf-d6e2-4aba-bb14-f56861f63392 button.colab-df-convert');\n",
              "        buttonEl.style.display =\n",
              "          google.colab.kernel.accessAllowed ? 'block' : 'none';\n",
              "\n",
              "        async function convertToInteractive(key) {\n",
              "          const element = document.querySelector('#df-bbcfb5bf-d6e2-4aba-bb14-f56861f63392');\n",
              "          const dataTable =\n",
              "            await google.colab.kernel.invokeFunction('convertToInteractive',\n",
              "                                                     [key], {});\n",
              "          if (!dataTable) return;\n",
              "\n",
              "          const docLinkHtml = 'Like what you see? Visit the ' +\n",
              "            '<a target=\"_blank\" href=https://colab.research.google.com/notebooks/data_table.ipynb>data table notebook</a>'\n",
              "            + ' to learn more about interactive tables.';\n",
              "          element.innerHTML = '';\n",
              "          dataTable['output_type'] = 'display_data';\n",
              "          await google.colab.output.renderOutput(dataTable, element);\n",
              "          const docLink = document.createElement('div');\n",
              "          docLink.innerHTML = docLinkHtml;\n",
              "          element.appendChild(docLink);\n",
              "        }\n",
              "      </script>\n",
              "    </div>\n",
              "  </div>\n",
              "  "
            ]
          },
          "metadata": {},
          "execution_count": 18
        }
      ]
    },
    {
      "cell_type": "markdown",
      "source": [
        "From this we can see that there are 1695 rows that have NaN values and get a general idea of the context of those values."
      ],
      "metadata": {
        "id": "hPwrT2BkgSmS"
      }
    },
    {
      "cell_type": "code",
      "source": [
        "def chk_null_sum(df, col):\n",
        "    return df[col].isnull().sum()\n",
        "\n",
        "chk_null_sum(df, 'size(kb)')"
      ],
      "metadata": {
        "id": "VNIkHiVDfKQx",
        "colab": {
          "base_uri": "https://localhost:8080/"
        },
        "outputId": "22535e40-599e-46ec-c4e7-b3db766ddd71"
      },
      "execution_count": null,
      "outputs": [
        {
          "output_type": "execute_result",
          "data": {
            "text/plain": [
              "1695"
            ]
          },
          "metadata": {},
          "execution_count": 19
        }
      ]
    },
    {
      "cell_type": "code",
      "source": [
        "# remove the \"+\"\n",
        "\n",
        "def remove_plus(df, col):\n",
        "    df[col] = df[col].astype(str).str.replace('+', '', regex=False)\n",
        "\n",
        "remove_plus(df, 'size(kb)')"
      ],
      "metadata": {
        "id": "qslhBbiugi5h"
      },
      "execution_count": null,
      "outputs": []
    },
    {
      "cell_type": "code",
      "source": [
        "# check\n",
        "\n",
        "df.loc[df['size(kb)'].astype(str).str.contains('+', regex=False),]"
      ],
      "metadata": {
        "colab": {
          "base_uri": "https://localhost:8080/",
          "height": 49
        },
        "id": "_b6SX8OKgkOW",
        "outputId": "b0192bb9-0d76-4789-838d-5394a95f22f6"
      },
      "execution_count": null,
      "outputs": [
        {
          "output_type": "execute_result",
          "data": {
            "text/plain": [
              "Empty DataFrame\n",
              "Columns: [app, category, rating, reviews, size(kb), installs, type, price, content_rating, genres, last_updated, current_ver, android_ver]\n",
              "Index: []"
            ],
            "text/html": [
              "\n",
              "  <div id=\"df-a15e786c-0193-4ddf-ae8a-502f6aa83ff0\">\n",
              "    <div class=\"colab-df-container\">\n",
              "      <div>\n",
              "<style scoped>\n",
              "    .dataframe tbody tr th:only-of-type {\n",
              "        vertical-align: middle;\n",
              "    }\n",
              "\n",
              "    .dataframe tbody tr th {\n",
              "        vertical-align: top;\n",
              "    }\n",
              "\n",
              "    .dataframe thead th {\n",
              "        text-align: right;\n",
              "    }\n",
              "</style>\n",
              "<table border=\"1\" class=\"dataframe\">\n",
              "  <thead>\n",
              "    <tr style=\"text-align: right;\">\n",
              "      <th></th>\n",
              "      <th>app</th>\n",
              "      <th>category</th>\n",
              "      <th>rating</th>\n",
              "      <th>reviews</th>\n",
              "      <th>size(kb)</th>\n",
              "      <th>installs</th>\n",
              "      <th>type</th>\n",
              "      <th>price</th>\n",
              "      <th>content_rating</th>\n",
              "      <th>genres</th>\n",
              "      <th>last_updated</th>\n",
              "      <th>current_ver</th>\n",
              "      <th>android_ver</th>\n",
              "    </tr>\n",
              "  </thead>\n",
              "  <tbody>\n",
              "  </tbody>\n",
              "</table>\n",
              "</div>\n",
              "      <button class=\"colab-df-convert\" onclick=\"convertToInteractive('df-a15e786c-0193-4ddf-ae8a-502f6aa83ff0')\"\n",
              "              title=\"Convert this dataframe to an interactive table.\"\n",
              "              style=\"display:none;\">\n",
              "        \n",
              "  <svg xmlns=\"http://www.w3.org/2000/svg\" height=\"24px\"viewBox=\"0 0 24 24\"\n",
              "       width=\"24px\">\n",
              "    <path d=\"M0 0h24v24H0V0z\" fill=\"none\"/>\n",
              "    <path d=\"M18.56 5.44l.94 2.06.94-2.06 2.06-.94-2.06-.94-.94-2.06-.94 2.06-2.06.94zm-11 1L8.5 8.5l.94-2.06 2.06-.94-2.06-.94L8.5 2.5l-.94 2.06-2.06.94zm10 10l.94 2.06.94-2.06 2.06-.94-2.06-.94-.94-2.06-.94 2.06-2.06.94z\"/><path d=\"M17.41 7.96l-1.37-1.37c-.4-.4-.92-.59-1.43-.59-.52 0-1.04.2-1.43.59L10.3 9.45l-7.72 7.72c-.78.78-.78 2.05 0 2.83L4 21.41c.39.39.9.59 1.41.59.51 0 1.02-.2 1.41-.59l7.78-7.78 2.81-2.81c.8-.78.8-2.07 0-2.86zM5.41 20L4 18.59l7.72-7.72 1.47 1.35L5.41 20z\"/>\n",
              "  </svg>\n",
              "      </button>\n",
              "      \n",
              "  <style>\n",
              "    .colab-df-container {\n",
              "      display:flex;\n",
              "      flex-wrap:wrap;\n",
              "      gap: 12px;\n",
              "    }\n",
              "\n",
              "    .colab-df-convert {\n",
              "      background-color: #E8F0FE;\n",
              "      border: none;\n",
              "      border-radius: 50%;\n",
              "      cursor: pointer;\n",
              "      display: none;\n",
              "      fill: #1967D2;\n",
              "      height: 32px;\n",
              "      padding: 0 0 0 0;\n",
              "      width: 32px;\n",
              "    }\n",
              "\n",
              "    .colab-df-convert:hover {\n",
              "      background-color: #E2EBFA;\n",
              "      box-shadow: 0px 1px 2px rgba(60, 64, 67, 0.3), 0px 1px 3px 1px rgba(60, 64, 67, 0.15);\n",
              "      fill: #174EA6;\n",
              "    }\n",
              "\n",
              "    [theme=dark] .colab-df-convert {\n",
              "      background-color: #3B4455;\n",
              "      fill: #D2E3FC;\n",
              "    }\n",
              "\n",
              "    [theme=dark] .colab-df-convert:hover {\n",
              "      background-color: #434B5C;\n",
              "      box-shadow: 0px 1px 3px 1px rgba(0, 0, 0, 0.15);\n",
              "      filter: drop-shadow(0px 1px 2px rgba(0, 0, 0, 0.3));\n",
              "      fill: #FFFFFF;\n",
              "    }\n",
              "  </style>\n",
              "\n",
              "      <script>\n",
              "        const buttonEl =\n",
              "          document.querySelector('#df-a15e786c-0193-4ddf-ae8a-502f6aa83ff0 button.colab-df-convert');\n",
              "        buttonEl.style.display =\n",
              "          google.colab.kernel.accessAllowed ? 'block' : 'none';\n",
              "\n",
              "        async function convertToInteractive(key) {\n",
              "          const element = document.querySelector('#df-a15e786c-0193-4ddf-ae8a-502f6aa83ff0');\n",
              "          const dataTable =\n",
              "            await google.colab.kernel.invokeFunction('convertToInteractive',\n",
              "                                                     [key], {});\n",
              "          if (!dataTable) return;\n",
              "\n",
              "          const docLinkHtml = 'Like what you see? Visit the ' +\n",
              "            '<a target=\"_blank\" href=https://colab.research.google.com/notebooks/data_table.ipynb>data table notebook</a>'\n",
              "            + ' to learn more about interactive tables.';\n",
              "          element.innerHTML = '';\n",
              "          dataTable['output_type'] = 'display_data';\n",
              "          await google.colab.output.renderOutput(dataTable, element);\n",
              "          const docLink = document.createElement('div');\n",
              "          docLink.innerHTML = docLinkHtml;\n",
              "          element.appendChild(docLink);\n",
              "        }\n",
              "      </script>\n",
              "    </div>\n",
              "  </div>\n",
              "  "
            ]
          },
          "metadata": {},
          "execution_count": 21
        }
      ]
    },
    {
      "cell_type": "code",
      "source": [
        "# removing commas\n",
        "\n",
        "def remove_commas(df, col):\n",
        "    df[col] = df[col].str.replace(',', '')\n",
        "\n",
        "remove_commas(df, 'size(kb)')"
      ],
      "metadata": {
        "id": "q13OHaQKgogE"
      },
      "execution_count": null,
      "outputs": []
    },
    {
      "cell_type": "code",
      "source": [
        "# convert column size data type to numeric\n",
        "\n",
        "def convert_to_numeric(df, col):\n",
        "    df[col] = pd.to_numeric(df[col], errors='coerce')\n",
        "\n",
        "convert_to_numeric(df, 'size(kb)')"
      ],
      "metadata": {
        "id": "e2C-EohJgtb6"
      },
      "execution_count": null,
      "outputs": []
    },
    {
      "cell_type": "markdown",
      "source": [
        "I am using coerce here because I know that anything being coerced is already a nan value."
      ],
      "metadata": {
        "id": "6EKcAdwmg73C"
      }
    },
    {
      "cell_type": "markdown",
      "source": [
        "\n",
        "NaN values in size column\n",
        "To deal with these missing values, we can fill them with the mean value, grouped by category, so that it does not affect our standard deviation."
      ],
      "metadata": {
        "id": "SgGMq84thBMV"
      }
    },
    {
      "cell_type": "code",
      "source": [
        "df['size(kb)'] = df['size(kb)'].astype(float).fillna(df.groupby('category')['size(kb)'].transform('mean'))"
      ],
      "metadata": {
        "id": "nmN-LTABg3Mh"
      },
      "execution_count": null,
      "outputs": []
    },
    {
      "cell_type": "code",
      "source": [
        "# check\n",
        "\n",
        "df.isnull().sum()"
      ],
      "metadata": {
        "colab": {
          "base_uri": "https://localhost:8080/"
        },
        "id": "WhmstLZ_hJBs",
        "outputId": "664a748b-1f27-466a-e5f3-d70d10b90239"
      },
      "execution_count": null,
      "outputs": [
        {
          "output_type": "execute_result",
          "data": {
            "text/plain": [
              "app                  0\n",
              "category             0\n",
              "rating            1474\n",
              "reviews              0\n",
              "size(kb)             0\n",
              "installs             0\n",
              "type                 1\n",
              "price                0\n",
              "content_rating       1\n",
              "genres               0\n",
              "last_updated         0\n",
              "current_ver          8\n",
              "android_ver          3\n",
              "dtype: int64"
            ]
          },
          "metadata": {},
          "execution_count": 25
        }
      ]
    },
    {
      "cell_type": "markdown",
      "source": [
        "## Last Updated\n",
        "For this analysis,We want the year so lets remove everything before the comma in the last_updated row.\n",
        "\n"
      ],
      "metadata": {
        "id": "_55TtHmjhRFe"
      }
    },
    {
      "cell_type": "code",
      "source": [
        "df['last_updated'].unique()"
      ],
      "metadata": {
        "colab": {
          "base_uri": "https://localhost:8080/"
        },
        "id": "ZxJjGAYehMxl",
        "outputId": "8b021efe-931c-4275-b511-7985a911b22f"
      },
      "execution_count": null,
      "outputs": [
        {
          "output_type": "execute_result",
          "data": {
            "text/plain": [
              "array(['JANUARY 7, 2018', 'JANUARY 15, 2018', 'AUGUST 1, 2018', ...,\n",
              "       'JANUARY 20, 2014', 'FEBRUARY 16, 2014', 'MARCH 23, 2014'],\n",
              "      dtype=object)"
            ]
          },
          "metadata": {},
          "execution_count": 26
        }
      ]
    },
    {
      "cell_type": "code",
      "source": [
        "cond = df.loc[df['last_updated'] == '1.0.19',].index"
      ],
      "metadata": {
        "id": "-rUbQ1xOhb27"
      },
      "execution_count": null,
      "outputs": []
    },
    {
      "cell_type": "markdown",
      "source": [],
      "metadata": {
        "id": "E4bsKBBVir2B"
      }
    },
    {
      "cell_type": "markdown",
      "source": [
        "Its looks like this row has been currupted, so we will remove it from the dataframe."
      ],
      "metadata": {
        "id": "-sxdjAWlhskw"
      }
    },
    {
      "cell_type": "code",
      "source": [
        "df.drop(cond, inplace=True)"
      ],
      "metadata": {
        "id": "dn3wV5o6hgfb"
      },
      "execution_count": null,
      "outputs": []
    },
    {
      "cell_type": "code",
      "source": [
        "def convert_datetime(df, col):\n",
        "    df[col] = pd.to_datetime(df[col])\n",
        "    \n",
        "def extract_year_dt(df, col):\n",
        "    df[col] = df[col].dt.year\n",
        "    \n",
        "    \n",
        "convert_datetime(df, 'last_updated')\n",
        "extract_year_dt(df, 'last_updated')"
      ],
      "metadata": {
        "id": "6UIgPQDIhxyD"
      },
      "execution_count": null,
      "outputs": []
    },
    {
      "cell_type": "code",
      "source": [
        "# check\n",
        "\n",
        "print(df['last_updated'])"
      ],
      "metadata": {
        "colab": {
          "base_uri": "https://localhost:8080/"
        },
        "id": "FS6lDKJOh13p",
        "outputId": "ce489cf2-9ba6-42c8-c29b-8f411ec7fb25"
      },
      "execution_count": null,
      "outputs": [
        {
          "output_type": "stream",
          "name": "stdout",
          "text": [
            "0        2018\n",
            "1        2018\n",
            "2        2018\n",
            "3        2018\n",
            "4        2018\n",
            "         ... \n",
            "10836    2017\n",
            "10837    2018\n",
            "10838    2017\n",
            "10839    2015\n",
            "10840    2018\n",
            "Name: last_updated, Length: 10840, dtype: int64\n"
          ]
        }
      ]
    },
    {
      "cell_type": "markdown",
      "source": [
        "## Installs\n",
        "Lets remove any non numeric digits and convert the datatype to numeric."
      ],
      "metadata": {
        "id": "uM5pOc2FifX2"
      }
    },
    {
      "cell_type": "code",
      "source": [
        "df['installs'].unique()"
      ],
      "metadata": {
        "colab": {
          "base_uri": "https://localhost:8080/"
        },
        "id": "dLB_1BlHh6iF",
        "outputId": "5d1cfc9d-43a7-41e3-ed31-1f516359ac05"
      },
      "execution_count": null,
      "outputs": [
        {
          "output_type": "execute_result",
          "data": {
            "text/plain": [
              "array(['10,000+', '500,000+', '5,000,000+', '50,000,000+', '100,000+',\n",
              "       '50,000+', '1,000,000+', '10,000,000+', '5,000+', '100,000,000+',\n",
              "       '1,000,000,000+', '1,000+', '500,000,000+', '50+', '100+', '500+',\n",
              "       '10+', '1+', '5+', '0+', '0'], dtype=object)"
            ]
          },
          "metadata": {},
          "execution_count": 31
        }
      ]
    },
    {
      "cell_type": "code",
      "source": [
        "remove_plus(df, 'installs')\n",
        "remove_commas(df, 'installs')"
      ],
      "metadata": {
        "id": "SYJO0pKQiDIA"
      },
      "execution_count": null,
      "outputs": []
    },
    {
      "cell_type": "code",
      "source": [
        "def to_numeric(df, col):\n",
        "    return pd.to_numeric(df[col])"
      ],
      "metadata": {
        "id": "xqv3cdKZiHME"
      },
      "execution_count": null,
      "outputs": []
    },
    {
      "cell_type": "code",
      "source": [
        "df['installs'] = to_numeric(df, 'installs')"
      ],
      "metadata": {
        "id": "QmcKID-piLrK"
      },
      "execution_count": null,
      "outputs": []
    },
    {
      "cell_type": "code",
      "source": [
        "df.info()"
      ],
      "metadata": {
        "colab": {
          "base_uri": "https://localhost:8080/"
        },
        "id": "T7RuaAPjiO4G",
        "outputId": "326d4581-999e-4a96-8265-cea9e64a99f9"
      },
      "execution_count": null,
      "outputs": [
        {
          "output_type": "stream",
          "name": "stdout",
          "text": [
            "<class 'pandas.core.frame.DataFrame'>\n",
            "Int64Index: 10840 entries, 0 to 10840\n",
            "Data columns (total 13 columns):\n",
            " #   Column          Non-Null Count  Dtype  \n",
            "---  ------          --------------  -----  \n",
            " 0   app             10840 non-null  object \n",
            " 1   category        10840 non-null  object \n",
            " 2   rating          9366 non-null   object \n",
            " 3   reviews         10840 non-null  object \n",
            " 4   size(kb)        10840 non-null  float64\n",
            " 5   installs        10840 non-null  int64  \n",
            " 6   type            10839 non-null  object \n",
            " 7   price           10840 non-null  object \n",
            " 8   content_rating  10840 non-null  object \n",
            " 9   genres          10840 non-null  object \n",
            " 10  last_updated    10840 non-null  int64  \n",
            " 11  current_ver     10832 non-null  object \n",
            " 12  android_ver     10838 non-null  object \n",
            "dtypes: float64(1), int64(2), object(10)\n",
            "memory usage: 1.2+ MB\n"
          ]
        }
      ]
    },
    {
      "cell_type": "markdown",
      "source": [
        "## Current_ver and Android_ver\n",
        "We dont need current_ver or android_ver for this anlalysis so we will remove those."
      ],
      "metadata": {
        "id": "uUesMlz-i2hH"
      }
    },
    {
      "cell_type": "code",
      "source": [
        "df = df.drop(['current_ver', 'android_ver'], axis=1)"
      ],
      "metadata": {
        "id": "ykZcwRljiTAN"
      },
      "execution_count": null,
      "outputs": []
    },
    {
      "cell_type": "code",
      "source": [
        "df.head()"
      ],
      "metadata": {
        "colab": {
          "base_uri": "https://localhost:8080/",
          "height": 354
        },
        "id": "62cGvu09jCNQ",
        "outputId": "f0650a40-5a3e-4468-dbed-2664bb649a71"
      },
      "execution_count": null,
      "outputs": [
        {
          "output_type": "execute_result",
          "data": {
            "text/plain": [
              "                                                 app        category rating  \\\n",
              "0     PHOTO EDITOR & CANDY CAMERA & GRID & SCRAPBOOK  ART_AND_DESIGN    4.1   \n",
              "1                                COLORING BOOK MOANA  ART_AND_DESIGN    3.9   \n",
              "2  U LAUNCHER LITE – FREE LIVE COOL THEMES, HIDE ...  ART_AND_DESIGN    4.7   \n",
              "3                              SKETCH - DRAW & PAINT  ART_AND_DESIGN    4.5   \n",
              "4              PIXEL DRAW - NUMBER ART COLORING BOOK  ART_AND_DESIGN    4.3   \n",
              "\n",
              "  reviews  size(kb)  installs  type price content_rating  \\\n",
              "0     159   19456.0     10000  FREE     0       EVERYONE   \n",
              "1     967   14336.0    500000  FREE     0       EVERYONE   \n",
              "2   87510    8908.8   5000000  FREE     0       EVERYONE   \n",
              "3  215644   25600.0  50000000  FREE     0           TEEN   \n",
              "4     967    2867.2    100000  FREE     0       EVERYONE   \n",
              "\n",
              "                      genres  last_updated  \n",
              "0               ART & DESIGN          2018  \n",
              "1  ART & DESIGN;PRETEND PLAY          2018  \n",
              "2               ART & DESIGN          2018  \n",
              "3               ART & DESIGN          2018  \n",
              "4    ART & DESIGN;CREATIVITY          2018  "
            ],
            "text/html": [
              "\n",
              "  <div id=\"df-e9475f6b-a108-4f5a-94bf-b69c7f020968\">\n",
              "    <div class=\"colab-df-container\">\n",
              "      <div>\n",
              "<style scoped>\n",
              "    .dataframe tbody tr th:only-of-type {\n",
              "        vertical-align: middle;\n",
              "    }\n",
              "\n",
              "    .dataframe tbody tr th {\n",
              "        vertical-align: top;\n",
              "    }\n",
              "\n",
              "    .dataframe thead th {\n",
              "        text-align: right;\n",
              "    }\n",
              "</style>\n",
              "<table border=\"1\" class=\"dataframe\">\n",
              "  <thead>\n",
              "    <tr style=\"text-align: right;\">\n",
              "      <th></th>\n",
              "      <th>app</th>\n",
              "      <th>category</th>\n",
              "      <th>rating</th>\n",
              "      <th>reviews</th>\n",
              "      <th>size(kb)</th>\n",
              "      <th>installs</th>\n",
              "      <th>type</th>\n",
              "      <th>price</th>\n",
              "      <th>content_rating</th>\n",
              "      <th>genres</th>\n",
              "      <th>last_updated</th>\n",
              "    </tr>\n",
              "  </thead>\n",
              "  <tbody>\n",
              "    <tr>\n",
              "      <th>0</th>\n",
              "      <td>PHOTO EDITOR &amp; CANDY CAMERA &amp; GRID &amp; SCRAPBOOK</td>\n",
              "      <td>ART_AND_DESIGN</td>\n",
              "      <td>4.1</td>\n",
              "      <td>159</td>\n",
              "      <td>19456.0</td>\n",
              "      <td>10000</td>\n",
              "      <td>FREE</td>\n",
              "      <td>0</td>\n",
              "      <td>EVERYONE</td>\n",
              "      <td>ART &amp; DESIGN</td>\n",
              "      <td>2018</td>\n",
              "    </tr>\n",
              "    <tr>\n",
              "      <th>1</th>\n",
              "      <td>COLORING BOOK MOANA</td>\n",
              "      <td>ART_AND_DESIGN</td>\n",
              "      <td>3.9</td>\n",
              "      <td>967</td>\n",
              "      <td>14336.0</td>\n",
              "      <td>500000</td>\n",
              "      <td>FREE</td>\n",
              "      <td>0</td>\n",
              "      <td>EVERYONE</td>\n",
              "      <td>ART &amp; DESIGN;PRETEND PLAY</td>\n",
              "      <td>2018</td>\n",
              "    </tr>\n",
              "    <tr>\n",
              "      <th>2</th>\n",
              "      <td>U LAUNCHER LITE – FREE LIVE COOL THEMES, HIDE ...</td>\n",
              "      <td>ART_AND_DESIGN</td>\n",
              "      <td>4.7</td>\n",
              "      <td>87510</td>\n",
              "      <td>8908.8</td>\n",
              "      <td>5000000</td>\n",
              "      <td>FREE</td>\n",
              "      <td>0</td>\n",
              "      <td>EVERYONE</td>\n",
              "      <td>ART &amp; DESIGN</td>\n",
              "      <td>2018</td>\n",
              "    </tr>\n",
              "    <tr>\n",
              "      <th>3</th>\n",
              "      <td>SKETCH - DRAW &amp; PAINT</td>\n",
              "      <td>ART_AND_DESIGN</td>\n",
              "      <td>4.5</td>\n",
              "      <td>215644</td>\n",
              "      <td>25600.0</td>\n",
              "      <td>50000000</td>\n",
              "      <td>FREE</td>\n",
              "      <td>0</td>\n",
              "      <td>TEEN</td>\n",
              "      <td>ART &amp; DESIGN</td>\n",
              "      <td>2018</td>\n",
              "    </tr>\n",
              "    <tr>\n",
              "      <th>4</th>\n",
              "      <td>PIXEL DRAW - NUMBER ART COLORING BOOK</td>\n",
              "      <td>ART_AND_DESIGN</td>\n",
              "      <td>4.3</td>\n",
              "      <td>967</td>\n",
              "      <td>2867.2</td>\n",
              "      <td>100000</td>\n",
              "      <td>FREE</td>\n",
              "      <td>0</td>\n",
              "      <td>EVERYONE</td>\n",
              "      <td>ART &amp; DESIGN;CREATIVITY</td>\n",
              "      <td>2018</td>\n",
              "    </tr>\n",
              "  </tbody>\n",
              "</table>\n",
              "</div>\n",
              "      <button class=\"colab-df-convert\" onclick=\"convertToInteractive('df-e9475f6b-a108-4f5a-94bf-b69c7f020968')\"\n",
              "              title=\"Convert this dataframe to an interactive table.\"\n",
              "              style=\"display:none;\">\n",
              "        \n",
              "  <svg xmlns=\"http://www.w3.org/2000/svg\" height=\"24px\"viewBox=\"0 0 24 24\"\n",
              "       width=\"24px\">\n",
              "    <path d=\"M0 0h24v24H0V0z\" fill=\"none\"/>\n",
              "    <path d=\"M18.56 5.44l.94 2.06.94-2.06 2.06-.94-2.06-.94-.94-2.06-.94 2.06-2.06.94zm-11 1L8.5 8.5l.94-2.06 2.06-.94-2.06-.94L8.5 2.5l-.94 2.06-2.06.94zm10 10l.94 2.06.94-2.06 2.06-.94-2.06-.94-.94-2.06-.94 2.06-2.06.94z\"/><path d=\"M17.41 7.96l-1.37-1.37c-.4-.4-.92-.59-1.43-.59-.52 0-1.04.2-1.43.59L10.3 9.45l-7.72 7.72c-.78.78-.78 2.05 0 2.83L4 21.41c.39.39.9.59 1.41.59.51 0 1.02-.2 1.41-.59l7.78-7.78 2.81-2.81c.8-.78.8-2.07 0-2.86zM5.41 20L4 18.59l7.72-7.72 1.47 1.35L5.41 20z\"/>\n",
              "  </svg>\n",
              "      </button>\n",
              "      \n",
              "  <style>\n",
              "    .colab-df-container {\n",
              "      display:flex;\n",
              "      flex-wrap:wrap;\n",
              "      gap: 12px;\n",
              "    }\n",
              "\n",
              "    .colab-df-convert {\n",
              "      background-color: #E8F0FE;\n",
              "      border: none;\n",
              "      border-radius: 50%;\n",
              "      cursor: pointer;\n",
              "      display: none;\n",
              "      fill: #1967D2;\n",
              "      height: 32px;\n",
              "      padding: 0 0 0 0;\n",
              "      width: 32px;\n",
              "    }\n",
              "\n",
              "    .colab-df-convert:hover {\n",
              "      background-color: #E2EBFA;\n",
              "      box-shadow: 0px 1px 2px rgba(60, 64, 67, 0.3), 0px 1px 3px 1px rgba(60, 64, 67, 0.15);\n",
              "      fill: #174EA6;\n",
              "    }\n",
              "\n",
              "    [theme=dark] .colab-df-convert {\n",
              "      background-color: #3B4455;\n",
              "      fill: #D2E3FC;\n",
              "    }\n",
              "\n",
              "    [theme=dark] .colab-df-convert:hover {\n",
              "      background-color: #434B5C;\n",
              "      box-shadow: 0px 1px 3px 1px rgba(0, 0, 0, 0.15);\n",
              "      filter: drop-shadow(0px 1px 2px rgba(0, 0, 0, 0.3));\n",
              "      fill: #FFFFFF;\n",
              "    }\n",
              "  </style>\n",
              "\n",
              "      <script>\n",
              "        const buttonEl =\n",
              "          document.querySelector('#df-e9475f6b-a108-4f5a-94bf-b69c7f020968 button.colab-df-convert');\n",
              "        buttonEl.style.display =\n",
              "          google.colab.kernel.accessAllowed ? 'block' : 'none';\n",
              "\n",
              "        async function convertToInteractive(key) {\n",
              "          const element = document.querySelector('#df-e9475f6b-a108-4f5a-94bf-b69c7f020968');\n",
              "          const dataTable =\n",
              "            await google.colab.kernel.invokeFunction('convertToInteractive',\n",
              "                                                     [key], {});\n",
              "          if (!dataTable) return;\n",
              "\n",
              "          const docLinkHtml = 'Like what you see? Visit the ' +\n",
              "            '<a target=\"_blank\" href=https://colab.research.google.com/notebooks/data_table.ipynb>data table notebook</a>'\n",
              "            + ' to learn more about interactive tables.';\n",
              "          element.innerHTML = '';\n",
              "          dataTable['output_type'] = 'display_data';\n",
              "          await google.colab.output.renderOutput(dataTable, element);\n",
              "          const docLink = document.createElement('div');\n",
              "          docLink.innerHTML = docLinkHtml;\n",
              "          element.appendChild(docLink);\n",
              "        }\n",
              "      </script>\n",
              "    </div>\n",
              "  </div>\n",
              "  "
            ]
          },
          "metadata": {},
          "execution_count": 37
        }
      ]
    },
    {
      "cell_type": "markdown",
      "source": [
        "## Rating, Reviews and Price To Numeric\n",
        "Lets go ahead and convert these columns to numeric."
      ],
      "metadata": {
        "id": "aRxCEPEa5KBh"
      }
    },
    {
      "cell_type": "code",
      "source": [
        "# remove $ from price column \n",
        "\n",
        "def remove_money_symbol(df, col):\n",
        "    df[col] = pd.to_numeric(df[col].str.replace('$', ''))\n",
        "\n",
        "remove_money_symbol(df, 'price')"
      ],
      "metadata": {
        "id": "1Nu4xzVwjGhw",
        "colab": {
          "base_uri": "https://localhost:8080/"
        },
        "outputId": "eb802f8a-0704-404e-95ad-69b2a29e1eab"
      },
      "execution_count": null,
      "outputs": [
        {
          "output_type": "stream",
          "name": "stderr",
          "text": [
            "/usr/local/lib/python3.7/dist-packages/ipykernel_launcher.py:4: FutureWarning: The default value of regex will change from True to False in a future version. In addition, single character regular expressions will *not* be treated as literal strings when regex=True.\n",
            "  after removing the cwd from sys.path.\n"
          ]
        }
      ]
    },
    {
      "cell_type": "code",
      "source": [
        "df['rating'] = to_numeric(df, 'rating')\n",
        "df['price'] = to_numeric(df, 'price')\n",
        "df['reviews'] = to_numeric(df, 'reviews')"
      ],
      "metadata": {
        "id": "lY0IDpHQ5Sob"
      },
      "execution_count": null,
      "outputs": []
    },
    {
      "cell_type": "markdown",
      "source": [
        "Once again, lets use a fillna method grouped by category to take care of NaN values in price."
      ],
      "metadata": {
        "id": "uYpxFP1c6en_"
      }
    },
    {
      "cell_type": "code",
      "source": [
        "df['price'] = df['price'].astype(float).fillna(df.groupby('category')['price'].transform('mean'))"
      ],
      "metadata": {
        "id": "QtAnwfJD6ZmH"
      },
      "execution_count": null,
      "outputs": []
    },
    {
      "cell_type": "code",
      "source": [
        "df['rating'] = df['rating'].astype(float).fillna(df.groupby('category')['rating'].transform('mean'))"
      ],
      "metadata": {
        "id": "sBCe-uAY6l6m"
      },
      "execution_count": null,
      "outputs": []
    },
    {
      "cell_type": "code",
      "source": [
        "df.info()"
      ],
      "metadata": {
        "colab": {
          "base_uri": "https://localhost:8080/"
        },
        "id": "8vUtMmnS6rL4",
        "outputId": "03f5c894-0e62-4d95-fc62-74ba3367d16e"
      },
      "execution_count": null,
      "outputs": [
        {
          "output_type": "stream",
          "name": "stdout",
          "text": [
            "<class 'pandas.core.frame.DataFrame'>\n",
            "Int64Index: 10840 entries, 0 to 10840\n",
            "Data columns (total 11 columns):\n",
            " #   Column          Non-Null Count  Dtype  \n",
            "---  ------          --------------  -----  \n",
            " 0   app             10840 non-null  object \n",
            " 1   category        10840 non-null  object \n",
            " 2   rating          10840 non-null  float64\n",
            " 3   reviews         10840 non-null  int64  \n",
            " 4   size(kb)        10840 non-null  float64\n",
            " 5   installs        10840 non-null  int64  \n",
            " 6   type            10839 non-null  object \n",
            " 7   price           10840 non-null  float64\n",
            " 8   content_rating  10840 non-null  object \n",
            " 9   genres          10840 non-null  object \n",
            " 10  last_updated    10840 non-null  int64  \n",
            "dtypes: float64(3), int64(3), object(5)\n",
            "memory usage: 1016.2+ KB\n"
          ]
        }
      ]
    },
    {
      "cell_type": "markdown",
      "source": [
        "## Type\n",
        "We see using .unique() that there is one null value. Upon further inspection of this value, it seems nonsensical so we will drop this row."
      ],
      "metadata": {
        "id": "eYXic8KU6-lP"
      }
    },
    {
      "cell_type": "code",
      "source": [
        "df['type'].unique()"
      ],
      "metadata": {
        "colab": {
          "base_uri": "https://localhost:8080/"
        },
        "id": "u-U3jl9H6uBE",
        "outputId": "09484839-e017-4aa6-95a4-59681fa998f2"
      },
      "execution_count": null,
      "outputs": [
        {
          "output_type": "execute_result",
          "data": {
            "text/plain": [
              "array(['FREE', 'PAID', nan], dtype=object)"
            ]
          },
          "metadata": {},
          "execution_count": 43
        }
      ]
    },
    {
      "cell_type": "code",
      "source": [
        "df.loc[df['type'].isnull()]"
      ],
      "metadata": {
        "colab": {
          "base_uri": "https://localhost:8080/",
          "height": 81
        },
        "id": "Ij2CNvBo7ERt",
        "outputId": "b18f2d5b-b5f8-40e2-eb93-299f790a5a56"
      },
      "execution_count": null,
      "outputs": [
        {
          "output_type": "execute_result",
          "data": {
            "text/plain": [
              "                            app category    rating  reviews      size(kb)  \\\n",
              "9148  COMMAND & CONQUER: RIVALS   FAMILY  4.192272        0  28998.679803   \n",
              "\n",
              "      installs type  price content_rating    genres  last_updated  \n",
              "9148         0  NaN    0.0   EVERYONE 10+  STRATEGY          2018  "
            ],
            "text/html": [
              "\n",
              "  <div id=\"df-ac2bd45c-f88e-4a3f-9c84-63fd74548304\">\n",
              "    <div class=\"colab-df-container\">\n",
              "      <div>\n",
              "<style scoped>\n",
              "    .dataframe tbody tr th:only-of-type {\n",
              "        vertical-align: middle;\n",
              "    }\n",
              "\n",
              "    .dataframe tbody tr th {\n",
              "        vertical-align: top;\n",
              "    }\n",
              "\n",
              "    .dataframe thead th {\n",
              "        text-align: right;\n",
              "    }\n",
              "</style>\n",
              "<table border=\"1\" class=\"dataframe\">\n",
              "  <thead>\n",
              "    <tr style=\"text-align: right;\">\n",
              "      <th></th>\n",
              "      <th>app</th>\n",
              "      <th>category</th>\n",
              "      <th>rating</th>\n",
              "      <th>reviews</th>\n",
              "      <th>size(kb)</th>\n",
              "      <th>installs</th>\n",
              "      <th>type</th>\n",
              "      <th>price</th>\n",
              "      <th>content_rating</th>\n",
              "      <th>genres</th>\n",
              "      <th>last_updated</th>\n",
              "    </tr>\n",
              "  </thead>\n",
              "  <tbody>\n",
              "    <tr>\n",
              "      <th>9148</th>\n",
              "      <td>COMMAND &amp; CONQUER: RIVALS</td>\n",
              "      <td>FAMILY</td>\n",
              "      <td>4.192272</td>\n",
              "      <td>0</td>\n",
              "      <td>28998.679803</td>\n",
              "      <td>0</td>\n",
              "      <td>NaN</td>\n",
              "      <td>0.0</td>\n",
              "      <td>EVERYONE 10+</td>\n",
              "      <td>STRATEGY</td>\n",
              "      <td>2018</td>\n",
              "    </tr>\n",
              "  </tbody>\n",
              "</table>\n",
              "</div>\n",
              "      <button class=\"colab-df-convert\" onclick=\"convertToInteractive('df-ac2bd45c-f88e-4a3f-9c84-63fd74548304')\"\n",
              "              title=\"Convert this dataframe to an interactive table.\"\n",
              "              style=\"display:none;\">\n",
              "        \n",
              "  <svg xmlns=\"http://www.w3.org/2000/svg\" height=\"24px\"viewBox=\"0 0 24 24\"\n",
              "       width=\"24px\">\n",
              "    <path d=\"M0 0h24v24H0V0z\" fill=\"none\"/>\n",
              "    <path d=\"M18.56 5.44l.94 2.06.94-2.06 2.06-.94-2.06-.94-.94-2.06-.94 2.06-2.06.94zm-11 1L8.5 8.5l.94-2.06 2.06-.94-2.06-.94L8.5 2.5l-.94 2.06-2.06.94zm10 10l.94 2.06.94-2.06 2.06-.94-2.06-.94-.94-2.06-.94 2.06-2.06.94z\"/><path d=\"M17.41 7.96l-1.37-1.37c-.4-.4-.92-.59-1.43-.59-.52 0-1.04.2-1.43.59L10.3 9.45l-7.72 7.72c-.78.78-.78 2.05 0 2.83L4 21.41c.39.39.9.59 1.41.59.51 0 1.02-.2 1.41-.59l7.78-7.78 2.81-2.81c.8-.78.8-2.07 0-2.86zM5.41 20L4 18.59l7.72-7.72 1.47 1.35L5.41 20z\"/>\n",
              "  </svg>\n",
              "      </button>\n",
              "      \n",
              "  <style>\n",
              "    .colab-df-container {\n",
              "      display:flex;\n",
              "      flex-wrap:wrap;\n",
              "      gap: 12px;\n",
              "    }\n",
              "\n",
              "    .colab-df-convert {\n",
              "      background-color: #E8F0FE;\n",
              "      border: none;\n",
              "      border-radius: 50%;\n",
              "      cursor: pointer;\n",
              "      display: none;\n",
              "      fill: #1967D2;\n",
              "      height: 32px;\n",
              "      padding: 0 0 0 0;\n",
              "      width: 32px;\n",
              "    }\n",
              "\n",
              "    .colab-df-convert:hover {\n",
              "      background-color: #E2EBFA;\n",
              "      box-shadow: 0px 1px 2px rgba(60, 64, 67, 0.3), 0px 1px 3px 1px rgba(60, 64, 67, 0.15);\n",
              "      fill: #174EA6;\n",
              "    }\n",
              "\n",
              "    [theme=dark] .colab-df-convert {\n",
              "      background-color: #3B4455;\n",
              "      fill: #D2E3FC;\n",
              "    }\n",
              "\n",
              "    [theme=dark] .colab-df-convert:hover {\n",
              "      background-color: #434B5C;\n",
              "      box-shadow: 0px 1px 3px 1px rgba(0, 0, 0, 0.15);\n",
              "      filter: drop-shadow(0px 1px 2px rgba(0, 0, 0, 0.3));\n",
              "      fill: #FFFFFF;\n",
              "    }\n",
              "  </style>\n",
              "\n",
              "      <script>\n",
              "        const buttonEl =\n",
              "          document.querySelector('#df-ac2bd45c-f88e-4a3f-9c84-63fd74548304 button.colab-df-convert');\n",
              "        buttonEl.style.display =\n",
              "          google.colab.kernel.accessAllowed ? 'block' : 'none';\n",
              "\n",
              "        async function convertToInteractive(key) {\n",
              "          const element = document.querySelector('#df-ac2bd45c-f88e-4a3f-9c84-63fd74548304');\n",
              "          const dataTable =\n",
              "            await google.colab.kernel.invokeFunction('convertToInteractive',\n",
              "                                                     [key], {});\n",
              "          if (!dataTable) return;\n",
              "\n",
              "          const docLinkHtml = 'Like what you see? Visit the ' +\n",
              "            '<a target=\"_blank\" href=https://colab.research.google.com/notebooks/data_table.ipynb>data table notebook</a>'\n",
              "            + ' to learn more about interactive tables.';\n",
              "          element.innerHTML = '';\n",
              "          dataTable['output_type'] = 'display_data';\n",
              "          await google.colab.output.renderOutput(dataTable, element);\n",
              "          const docLink = document.createElement('div');\n",
              "          docLink.innerHTML = docLinkHtml;\n",
              "          element.appendChild(docLink);\n",
              "        }\n",
              "      </script>\n",
              "    </div>\n",
              "  </div>\n",
              "  "
            ]
          },
          "metadata": {},
          "execution_count": 44
        }
      ]
    },
    {
      "cell_type": "code",
      "source": [
        "df.dropna(subset=['type'], inplace=True)"
      ],
      "metadata": {
        "id": "7jUblzJM7PgB"
      },
      "execution_count": null,
      "outputs": []
    },
    {
      "cell_type": "markdown",
      "source": [
        "Lets do a final check of the data set with .info and .sample"
      ],
      "metadata": {
        "id": "zlZlgYPw7bex"
      }
    },
    {
      "cell_type": "code",
      "source": [
        "df.info()"
      ],
      "metadata": {
        "colab": {
          "base_uri": "https://localhost:8080/"
        },
        "id": "aJFpBrpN7Ucn",
        "outputId": "e1c2eac8-cace-40f7-8c2e-adfd43ee03cc"
      },
      "execution_count": null,
      "outputs": [
        {
          "output_type": "stream",
          "name": "stdout",
          "text": [
            "<class 'pandas.core.frame.DataFrame'>\n",
            "Int64Index: 10839 entries, 0 to 10840\n",
            "Data columns (total 11 columns):\n",
            " #   Column          Non-Null Count  Dtype  \n",
            "---  ------          --------------  -----  \n",
            " 0   app             10839 non-null  object \n",
            " 1   category        10839 non-null  object \n",
            " 2   rating          10839 non-null  float64\n",
            " 3   reviews         10839 non-null  int64  \n",
            " 4   size(kb)        10839 non-null  float64\n",
            " 5   installs        10839 non-null  int64  \n",
            " 6   type            10839 non-null  object \n",
            " 7   price           10839 non-null  float64\n",
            " 8   content_rating  10839 non-null  object \n",
            " 9   genres          10839 non-null  object \n",
            " 10  last_updated    10839 non-null  int64  \n",
            "dtypes: float64(3), int64(3), object(5)\n",
            "memory usage: 1016.2+ KB\n"
          ]
        }
      ]
    },
    {
      "cell_type": "code",
      "source": [
        "df.sample(8)"
      ],
      "metadata": {
        "colab": {
          "base_uri": "https://localhost:8080/",
          "height": 570
        },
        "id": "bUp4wdft7iUJ",
        "outputId": "2c0014c8-aa5a-41f1-d92f-ad611d6a7b90"
      },
      "execution_count": null,
      "outputs": [
        {
          "output_type": "execute_result",
          "data": {
            "text/plain": [
              "                                                     app             category  \\\n",
              "8245                      DC LEGENDS: BATTLE FOR JUSTICE               FAMILY   \n",
              "4437   PRIME KEY FOR NOUGAT LAUNCHER& O LAUNCHER &KITKAT      PERSONALIZATION   \n",
              "4795                             BOOMERANG MAKE AND RACE               FAMILY   \n",
              "6754                       CABLE SIZE CALCULATOR BS 7671                TOOLS   \n",
              "9476                                  BOOKING REVOLUTION               SPORTS   \n",
              "10818                               GOLD QUOTE - GOLD.FR              FINANCE   \n",
              "9229                                 TN PATTA CITTA & EC  BOOKS_AND_REFERENCE   \n",
              "5296                                   WALLPAPERS AK 74M      PERSONALIZATION   \n",
              "\n",
              "         rating  reviews  size(kb)  installs  type  price content_rating  \\\n",
              "8245   4.500000   355613   60416.0  10000000  FREE   0.00           TEEN   \n",
              "4437   4.100000      324     313.0      5000  PAID   6.99       EVERYONE   \n",
              "4795   4.400000   281448   71680.0  10000000  FREE   0.00       EVERYONE   \n",
              "6754   3.900000      333    1126.4    100000  FREE   0.00       EVERYONE   \n",
              "9476   4.200000   140883   60416.0   5000000  FREE   0.00           TEEN   \n",
              "10818  4.131889       96    1536.0     10000  FREE   0.00       EVERYONE   \n",
              "9229   3.800000       48    1536.0     10000  FREE   0.00       EVERYONE   \n",
              "5296   4.335987        0   11264.0        10  FREE   0.00           TEEN   \n",
              "\n",
              "                          genres  last_updated  \n",
              "8245                ROLE PLAYING          2018  \n",
              "4437             PERSONALIZATION          2017  \n",
              "4795   RACING;ACTION & ADVENTURE          2018  \n",
              "6754                       TOOLS          2016  \n",
              "9476                      SPORTS          2018  \n",
              "10818                    FINANCE          2016  \n",
              "9229           BOOKS & REFERENCE          2018  \n",
              "5296             PERSONALIZATION          2018  "
            ],
            "text/html": [
              "\n",
              "  <div id=\"df-437470ac-099c-4568-baa1-c91c03230a68\">\n",
              "    <div class=\"colab-df-container\">\n",
              "      <div>\n",
              "<style scoped>\n",
              "    .dataframe tbody tr th:only-of-type {\n",
              "        vertical-align: middle;\n",
              "    }\n",
              "\n",
              "    .dataframe tbody tr th {\n",
              "        vertical-align: top;\n",
              "    }\n",
              "\n",
              "    .dataframe thead th {\n",
              "        text-align: right;\n",
              "    }\n",
              "</style>\n",
              "<table border=\"1\" class=\"dataframe\">\n",
              "  <thead>\n",
              "    <tr style=\"text-align: right;\">\n",
              "      <th></th>\n",
              "      <th>app</th>\n",
              "      <th>category</th>\n",
              "      <th>rating</th>\n",
              "      <th>reviews</th>\n",
              "      <th>size(kb)</th>\n",
              "      <th>installs</th>\n",
              "      <th>type</th>\n",
              "      <th>price</th>\n",
              "      <th>content_rating</th>\n",
              "      <th>genres</th>\n",
              "      <th>last_updated</th>\n",
              "    </tr>\n",
              "  </thead>\n",
              "  <tbody>\n",
              "    <tr>\n",
              "      <th>8245</th>\n",
              "      <td>DC LEGENDS: BATTLE FOR JUSTICE</td>\n",
              "      <td>FAMILY</td>\n",
              "      <td>4.500000</td>\n",
              "      <td>355613</td>\n",
              "      <td>60416.0</td>\n",
              "      <td>10000000</td>\n",
              "      <td>FREE</td>\n",
              "      <td>0.00</td>\n",
              "      <td>TEEN</td>\n",
              "      <td>ROLE PLAYING</td>\n",
              "      <td>2018</td>\n",
              "    </tr>\n",
              "    <tr>\n",
              "      <th>4437</th>\n",
              "      <td>PRIME KEY FOR NOUGAT LAUNCHER&amp; O LAUNCHER &amp;KITKAT</td>\n",
              "      <td>PERSONALIZATION</td>\n",
              "      <td>4.100000</td>\n",
              "      <td>324</td>\n",
              "      <td>313.0</td>\n",
              "      <td>5000</td>\n",
              "      <td>PAID</td>\n",
              "      <td>6.99</td>\n",
              "      <td>EVERYONE</td>\n",
              "      <td>PERSONALIZATION</td>\n",
              "      <td>2017</td>\n",
              "    </tr>\n",
              "    <tr>\n",
              "      <th>4795</th>\n",
              "      <td>BOOMERANG MAKE AND RACE</td>\n",
              "      <td>FAMILY</td>\n",
              "      <td>4.400000</td>\n",
              "      <td>281448</td>\n",
              "      <td>71680.0</td>\n",
              "      <td>10000000</td>\n",
              "      <td>FREE</td>\n",
              "      <td>0.00</td>\n",
              "      <td>EVERYONE</td>\n",
              "      <td>RACING;ACTION &amp; ADVENTURE</td>\n",
              "      <td>2018</td>\n",
              "    </tr>\n",
              "    <tr>\n",
              "      <th>6754</th>\n",
              "      <td>CABLE SIZE CALCULATOR BS 7671</td>\n",
              "      <td>TOOLS</td>\n",
              "      <td>3.900000</td>\n",
              "      <td>333</td>\n",
              "      <td>1126.4</td>\n",
              "      <td>100000</td>\n",
              "      <td>FREE</td>\n",
              "      <td>0.00</td>\n",
              "      <td>EVERYONE</td>\n",
              "      <td>TOOLS</td>\n",
              "      <td>2016</td>\n",
              "    </tr>\n",
              "    <tr>\n",
              "      <th>9476</th>\n",
              "      <td>BOOKING REVOLUTION</td>\n",
              "      <td>SPORTS</td>\n",
              "      <td>4.200000</td>\n",
              "      <td>140883</td>\n",
              "      <td>60416.0</td>\n",
              "      <td>5000000</td>\n",
              "      <td>FREE</td>\n",
              "      <td>0.00</td>\n",
              "      <td>TEEN</td>\n",
              "      <td>SPORTS</td>\n",
              "      <td>2018</td>\n",
              "    </tr>\n",
              "    <tr>\n",
              "      <th>10818</th>\n",
              "      <td>GOLD QUOTE - GOLD.FR</td>\n",
              "      <td>FINANCE</td>\n",
              "      <td>4.131889</td>\n",
              "      <td>96</td>\n",
              "      <td>1536.0</td>\n",
              "      <td>10000</td>\n",
              "      <td>FREE</td>\n",
              "      <td>0.00</td>\n",
              "      <td>EVERYONE</td>\n",
              "      <td>FINANCE</td>\n",
              "      <td>2016</td>\n",
              "    </tr>\n",
              "    <tr>\n",
              "      <th>9229</th>\n",
              "      <td>TN PATTA CITTA &amp; EC</td>\n",
              "      <td>BOOKS_AND_REFERENCE</td>\n",
              "      <td>3.800000</td>\n",
              "      <td>48</td>\n",
              "      <td>1536.0</td>\n",
              "      <td>10000</td>\n",
              "      <td>FREE</td>\n",
              "      <td>0.00</td>\n",
              "      <td>EVERYONE</td>\n",
              "      <td>BOOKS &amp; REFERENCE</td>\n",
              "      <td>2018</td>\n",
              "    </tr>\n",
              "    <tr>\n",
              "      <th>5296</th>\n",
              "      <td>WALLPAPERS AK 74M</td>\n",
              "      <td>PERSONALIZATION</td>\n",
              "      <td>4.335987</td>\n",
              "      <td>0</td>\n",
              "      <td>11264.0</td>\n",
              "      <td>10</td>\n",
              "      <td>FREE</td>\n",
              "      <td>0.00</td>\n",
              "      <td>TEEN</td>\n",
              "      <td>PERSONALIZATION</td>\n",
              "      <td>2018</td>\n",
              "    </tr>\n",
              "  </tbody>\n",
              "</table>\n",
              "</div>\n",
              "      <button class=\"colab-df-convert\" onclick=\"convertToInteractive('df-437470ac-099c-4568-baa1-c91c03230a68')\"\n",
              "              title=\"Convert this dataframe to an interactive table.\"\n",
              "              style=\"display:none;\">\n",
              "        \n",
              "  <svg xmlns=\"http://www.w3.org/2000/svg\" height=\"24px\"viewBox=\"0 0 24 24\"\n",
              "       width=\"24px\">\n",
              "    <path d=\"M0 0h24v24H0V0z\" fill=\"none\"/>\n",
              "    <path d=\"M18.56 5.44l.94 2.06.94-2.06 2.06-.94-2.06-.94-.94-2.06-.94 2.06-2.06.94zm-11 1L8.5 8.5l.94-2.06 2.06-.94-2.06-.94L8.5 2.5l-.94 2.06-2.06.94zm10 10l.94 2.06.94-2.06 2.06-.94-2.06-.94-.94-2.06-.94 2.06-2.06.94z\"/><path d=\"M17.41 7.96l-1.37-1.37c-.4-.4-.92-.59-1.43-.59-.52 0-1.04.2-1.43.59L10.3 9.45l-7.72 7.72c-.78.78-.78 2.05 0 2.83L4 21.41c.39.39.9.59 1.41.59.51 0 1.02-.2 1.41-.59l7.78-7.78 2.81-2.81c.8-.78.8-2.07 0-2.86zM5.41 20L4 18.59l7.72-7.72 1.47 1.35L5.41 20z\"/>\n",
              "  </svg>\n",
              "      </button>\n",
              "      \n",
              "  <style>\n",
              "    .colab-df-container {\n",
              "      display:flex;\n",
              "      flex-wrap:wrap;\n",
              "      gap: 12px;\n",
              "    }\n",
              "\n",
              "    .colab-df-convert {\n",
              "      background-color: #E8F0FE;\n",
              "      border: none;\n",
              "      border-radius: 50%;\n",
              "      cursor: pointer;\n",
              "      display: none;\n",
              "      fill: #1967D2;\n",
              "      height: 32px;\n",
              "      padding: 0 0 0 0;\n",
              "      width: 32px;\n",
              "    }\n",
              "\n",
              "    .colab-df-convert:hover {\n",
              "      background-color: #E2EBFA;\n",
              "      box-shadow: 0px 1px 2px rgba(60, 64, 67, 0.3), 0px 1px 3px 1px rgba(60, 64, 67, 0.15);\n",
              "      fill: #174EA6;\n",
              "    }\n",
              "\n",
              "    [theme=dark] .colab-df-convert {\n",
              "      background-color: #3B4455;\n",
              "      fill: #D2E3FC;\n",
              "    }\n",
              "\n",
              "    [theme=dark] .colab-df-convert:hover {\n",
              "      background-color: #434B5C;\n",
              "      box-shadow: 0px 1px 3px 1px rgba(0, 0, 0, 0.15);\n",
              "      filter: drop-shadow(0px 1px 2px rgba(0, 0, 0, 0.3));\n",
              "      fill: #FFFFFF;\n",
              "    }\n",
              "  </style>\n",
              "\n",
              "      <script>\n",
              "        const buttonEl =\n",
              "          document.querySelector('#df-437470ac-099c-4568-baa1-c91c03230a68 button.colab-df-convert');\n",
              "        buttonEl.style.display =\n",
              "          google.colab.kernel.accessAllowed ? 'block' : 'none';\n",
              "\n",
              "        async function convertToInteractive(key) {\n",
              "          const element = document.querySelector('#df-437470ac-099c-4568-baa1-c91c03230a68');\n",
              "          const dataTable =\n",
              "            await google.colab.kernel.invokeFunction('convertToInteractive',\n",
              "                                                     [key], {});\n",
              "          if (!dataTable) return;\n",
              "\n",
              "          const docLinkHtml = 'Like what you see? Visit the ' +\n",
              "            '<a target=\"_blank\" href=https://colab.research.google.com/notebooks/data_table.ipynb>data table notebook</a>'\n",
              "            + ' to learn more about interactive tables.';\n",
              "          element.innerHTML = '';\n",
              "          dataTable['output_type'] = 'display_data';\n",
              "          await google.colab.output.renderOutput(dataTable, element);\n",
              "          const docLink = document.createElement('div');\n",
              "          docLink.innerHTML = docLinkHtml;\n",
              "          element.appendChild(docLink);\n",
              "        }\n",
              "      </script>\n",
              "    </div>\n",
              "  </div>\n",
              "  "
            ]
          },
          "metadata": {},
          "execution_count": 47
        }
      ]
    },
    {
      "cell_type": "code",
      "source": [
        "df.head(-12)"
      ],
      "metadata": {
        "colab": {
          "base_uri": "https://localhost:8080/",
          "height": 745
        },
        "id": "HPbX1jhc7oQg",
        "outputId": "12b7cb84-0d21-4bc4-ec82-3059ae9a1229"
      },
      "execution_count": null,
      "outputs": [
        {
          "output_type": "execute_result",
          "data": {
            "text/plain": [
              "                                                     app        category  \\\n",
              "0         PHOTO EDITOR & CANDY CAMERA & GRID & SCRAPBOOK  ART_AND_DESIGN   \n",
              "1                                    COLORING BOOK MOANA  ART_AND_DESIGN   \n",
              "2      U LAUNCHER LITE – FREE LIVE COOL THEMES, HIDE ...  ART_AND_DESIGN   \n",
              "3                                  SKETCH - DRAW & PAINT  ART_AND_DESIGN   \n",
              "4                  PIXEL DRAW - NUMBER ART COLORING BOOK  ART_AND_DESIGN   \n",
              "...                                                  ...             ...   \n",
              "10824                                          CARDIO-FR         MEDICAL   \n",
              "10825                                 NARUTO & BORUTO FR          SOCIAL   \n",
              "10826          FRIM: GET NEW FRIENDS ON LOCAL CHAT ROOMS          SOCIAL   \n",
              "10827                                 FR AGNEL AMBARNATH          FAMILY   \n",
              "10828                            MANGA-FR - ANIME VOSTFR          COMICS   \n",
              "\n",
              "         rating  reviews      size(kb)  installs  type  price content_rating  \\\n",
              "0      4.100000      159  19456.000000     10000  FREE    0.0       EVERYONE   \n",
              "1      3.900000      967  14336.000000    500000  FREE    0.0       EVERYONE   \n",
              "2      4.700000    87510   8908.800000   5000000  FREE    0.0       EVERYONE   \n",
              "3      4.500000   215644  25600.000000  50000000  FREE    0.0           TEEN   \n",
              "4      4.300000      967   2867.200000    100000  FREE    0.0       EVERYONE   \n",
              "...         ...      ...           ...       ...   ...    ...            ...   \n",
              "10824  4.189143       67  83968.000000     10000  FREE    0.0       EVERYONE   \n",
              "10825  4.255598        7   7884.800000       100  FREE    0.0           TEEN   \n",
              "10826  4.000000    88486  18106.031429   5000000  FREE    0.0     MATURE 17+   \n",
              "10827  4.200000      117  13312.000000      5000  FREE    0.0       EVERYONE   \n",
              "10828  3.400000      291  13312.000000     10000  FREE    0.0       EVERYONE   \n",
              "\n",
              "                          genres  last_updated  \n",
              "0                   ART & DESIGN          2018  \n",
              "1      ART & DESIGN;PRETEND PLAY          2018  \n",
              "2                   ART & DESIGN          2018  \n",
              "3                   ART & DESIGN          2018  \n",
              "4        ART & DESIGN;CREATIVITY          2018  \n",
              "...                          ...           ...  \n",
              "10824                    MEDICAL          2018  \n",
              "10825                     SOCIAL          2018  \n",
              "10826                     SOCIAL          2018  \n",
              "10827                  EDUCATION          2018  \n",
              "10828                     COMICS          2017  \n",
              "\n",
              "[10827 rows x 11 columns]"
            ],
            "text/html": [
              "\n",
              "  <div id=\"df-f3429229-ae81-4a90-a5d7-45cc492e6ded\">\n",
              "    <div class=\"colab-df-container\">\n",
              "      <div>\n",
              "<style scoped>\n",
              "    .dataframe tbody tr th:only-of-type {\n",
              "        vertical-align: middle;\n",
              "    }\n",
              "\n",
              "    .dataframe tbody tr th {\n",
              "        vertical-align: top;\n",
              "    }\n",
              "\n",
              "    .dataframe thead th {\n",
              "        text-align: right;\n",
              "    }\n",
              "</style>\n",
              "<table border=\"1\" class=\"dataframe\">\n",
              "  <thead>\n",
              "    <tr style=\"text-align: right;\">\n",
              "      <th></th>\n",
              "      <th>app</th>\n",
              "      <th>category</th>\n",
              "      <th>rating</th>\n",
              "      <th>reviews</th>\n",
              "      <th>size(kb)</th>\n",
              "      <th>installs</th>\n",
              "      <th>type</th>\n",
              "      <th>price</th>\n",
              "      <th>content_rating</th>\n",
              "      <th>genres</th>\n",
              "      <th>last_updated</th>\n",
              "    </tr>\n",
              "  </thead>\n",
              "  <tbody>\n",
              "    <tr>\n",
              "      <th>0</th>\n",
              "      <td>PHOTO EDITOR &amp; CANDY CAMERA &amp; GRID &amp; SCRAPBOOK</td>\n",
              "      <td>ART_AND_DESIGN</td>\n",
              "      <td>4.100000</td>\n",
              "      <td>159</td>\n",
              "      <td>19456.000000</td>\n",
              "      <td>10000</td>\n",
              "      <td>FREE</td>\n",
              "      <td>0.0</td>\n",
              "      <td>EVERYONE</td>\n",
              "      <td>ART &amp; DESIGN</td>\n",
              "      <td>2018</td>\n",
              "    </tr>\n",
              "    <tr>\n",
              "      <th>1</th>\n",
              "      <td>COLORING BOOK MOANA</td>\n",
              "      <td>ART_AND_DESIGN</td>\n",
              "      <td>3.900000</td>\n",
              "      <td>967</td>\n",
              "      <td>14336.000000</td>\n",
              "      <td>500000</td>\n",
              "      <td>FREE</td>\n",
              "      <td>0.0</td>\n",
              "      <td>EVERYONE</td>\n",
              "      <td>ART &amp; DESIGN;PRETEND PLAY</td>\n",
              "      <td>2018</td>\n",
              "    </tr>\n",
              "    <tr>\n",
              "      <th>2</th>\n",
              "      <td>U LAUNCHER LITE – FREE LIVE COOL THEMES, HIDE ...</td>\n",
              "      <td>ART_AND_DESIGN</td>\n",
              "      <td>4.700000</td>\n",
              "      <td>87510</td>\n",
              "      <td>8908.800000</td>\n",
              "      <td>5000000</td>\n",
              "      <td>FREE</td>\n",
              "      <td>0.0</td>\n",
              "      <td>EVERYONE</td>\n",
              "      <td>ART &amp; DESIGN</td>\n",
              "      <td>2018</td>\n",
              "    </tr>\n",
              "    <tr>\n",
              "      <th>3</th>\n",
              "      <td>SKETCH - DRAW &amp; PAINT</td>\n",
              "      <td>ART_AND_DESIGN</td>\n",
              "      <td>4.500000</td>\n",
              "      <td>215644</td>\n",
              "      <td>25600.000000</td>\n",
              "      <td>50000000</td>\n",
              "      <td>FREE</td>\n",
              "      <td>0.0</td>\n",
              "      <td>TEEN</td>\n",
              "      <td>ART &amp; DESIGN</td>\n",
              "      <td>2018</td>\n",
              "    </tr>\n",
              "    <tr>\n",
              "      <th>4</th>\n",
              "      <td>PIXEL DRAW - NUMBER ART COLORING BOOK</td>\n",
              "      <td>ART_AND_DESIGN</td>\n",
              "      <td>4.300000</td>\n",
              "      <td>967</td>\n",
              "      <td>2867.200000</td>\n",
              "      <td>100000</td>\n",
              "      <td>FREE</td>\n",
              "      <td>0.0</td>\n",
              "      <td>EVERYONE</td>\n",
              "      <td>ART &amp; DESIGN;CREATIVITY</td>\n",
              "      <td>2018</td>\n",
              "    </tr>\n",
              "    <tr>\n",
              "      <th>...</th>\n",
              "      <td>...</td>\n",
              "      <td>...</td>\n",
              "      <td>...</td>\n",
              "      <td>...</td>\n",
              "      <td>...</td>\n",
              "      <td>...</td>\n",
              "      <td>...</td>\n",
              "      <td>...</td>\n",
              "      <td>...</td>\n",
              "      <td>...</td>\n",
              "      <td>...</td>\n",
              "    </tr>\n",
              "    <tr>\n",
              "      <th>10824</th>\n",
              "      <td>CARDIO-FR</td>\n",
              "      <td>MEDICAL</td>\n",
              "      <td>4.189143</td>\n",
              "      <td>67</td>\n",
              "      <td>83968.000000</td>\n",
              "      <td>10000</td>\n",
              "      <td>FREE</td>\n",
              "      <td>0.0</td>\n",
              "      <td>EVERYONE</td>\n",
              "      <td>MEDICAL</td>\n",
              "      <td>2018</td>\n",
              "    </tr>\n",
              "    <tr>\n",
              "      <th>10825</th>\n",
              "      <td>NARUTO &amp; BORUTO FR</td>\n",
              "      <td>SOCIAL</td>\n",
              "      <td>4.255598</td>\n",
              "      <td>7</td>\n",
              "      <td>7884.800000</td>\n",
              "      <td>100</td>\n",
              "      <td>FREE</td>\n",
              "      <td>0.0</td>\n",
              "      <td>TEEN</td>\n",
              "      <td>SOCIAL</td>\n",
              "      <td>2018</td>\n",
              "    </tr>\n",
              "    <tr>\n",
              "      <th>10826</th>\n",
              "      <td>FRIM: GET NEW FRIENDS ON LOCAL CHAT ROOMS</td>\n",
              "      <td>SOCIAL</td>\n",
              "      <td>4.000000</td>\n",
              "      <td>88486</td>\n",
              "      <td>18106.031429</td>\n",
              "      <td>5000000</td>\n",
              "      <td>FREE</td>\n",
              "      <td>0.0</td>\n",
              "      <td>MATURE 17+</td>\n",
              "      <td>SOCIAL</td>\n",
              "      <td>2018</td>\n",
              "    </tr>\n",
              "    <tr>\n",
              "      <th>10827</th>\n",
              "      <td>FR AGNEL AMBARNATH</td>\n",
              "      <td>FAMILY</td>\n",
              "      <td>4.200000</td>\n",
              "      <td>117</td>\n",
              "      <td>13312.000000</td>\n",
              "      <td>5000</td>\n",
              "      <td>FREE</td>\n",
              "      <td>0.0</td>\n",
              "      <td>EVERYONE</td>\n",
              "      <td>EDUCATION</td>\n",
              "      <td>2018</td>\n",
              "    </tr>\n",
              "    <tr>\n",
              "      <th>10828</th>\n",
              "      <td>MANGA-FR - ANIME VOSTFR</td>\n",
              "      <td>COMICS</td>\n",
              "      <td>3.400000</td>\n",
              "      <td>291</td>\n",
              "      <td>13312.000000</td>\n",
              "      <td>10000</td>\n",
              "      <td>FREE</td>\n",
              "      <td>0.0</td>\n",
              "      <td>EVERYONE</td>\n",
              "      <td>COMICS</td>\n",
              "      <td>2017</td>\n",
              "    </tr>\n",
              "  </tbody>\n",
              "</table>\n",
              "<p>10827 rows × 11 columns</p>\n",
              "</div>\n",
              "      <button class=\"colab-df-convert\" onclick=\"convertToInteractive('df-f3429229-ae81-4a90-a5d7-45cc492e6ded')\"\n",
              "              title=\"Convert this dataframe to an interactive table.\"\n",
              "              style=\"display:none;\">\n",
              "        \n",
              "  <svg xmlns=\"http://www.w3.org/2000/svg\" height=\"24px\"viewBox=\"0 0 24 24\"\n",
              "       width=\"24px\">\n",
              "    <path d=\"M0 0h24v24H0V0z\" fill=\"none\"/>\n",
              "    <path d=\"M18.56 5.44l.94 2.06.94-2.06 2.06-.94-2.06-.94-.94-2.06-.94 2.06-2.06.94zm-11 1L8.5 8.5l.94-2.06 2.06-.94-2.06-.94L8.5 2.5l-.94 2.06-2.06.94zm10 10l.94 2.06.94-2.06 2.06-.94-2.06-.94-.94-2.06-.94 2.06-2.06.94z\"/><path d=\"M17.41 7.96l-1.37-1.37c-.4-.4-.92-.59-1.43-.59-.52 0-1.04.2-1.43.59L10.3 9.45l-7.72 7.72c-.78.78-.78 2.05 0 2.83L4 21.41c.39.39.9.59 1.41.59.51 0 1.02-.2 1.41-.59l7.78-7.78 2.81-2.81c.8-.78.8-2.07 0-2.86zM5.41 20L4 18.59l7.72-7.72 1.47 1.35L5.41 20z\"/>\n",
              "  </svg>\n",
              "      </button>\n",
              "      \n",
              "  <style>\n",
              "    .colab-df-container {\n",
              "      display:flex;\n",
              "      flex-wrap:wrap;\n",
              "      gap: 12px;\n",
              "    }\n",
              "\n",
              "    .colab-df-convert {\n",
              "      background-color: #E8F0FE;\n",
              "      border: none;\n",
              "      border-radius: 50%;\n",
              "      cursor: pointer;\n",
              "      display: none;\n",
              "      fill: #1967D2;\n",
              "      height: 32px;\n",
              "      padding: 0 0 0 0;\n",
              "      width: 32px;\n",
              "    }\n",
              "\n",
              "    .colab-df-convert:hover {\n",
              "      background-color: #E2EBFA;\n",
              "      box-shadow: 0px 1px 2px rgba(60, 64, 67, 0.3), 0px 1px 3px 1px rgba(60, 64, 67, 0.15);\n",
              "      fill: #174EA6;\n",
              "    }\n",
              "\n",
              "    [theme=dark] .colab-df-convert {\n",
              "      background-color: #3B4455;\n",
              "      fill: #D2E3FC;\n",
              "    }\n",
              "\n",
              "    [theme=dark] .colab-df-convert:hover {\n",
              "      background-color: #434B5C;\n",
              "      box-shadow: 0px 1px 3px 1px rgba(0, 0, 0, 0.15);\n",
              "      filter: drop-shadow(0px 1px 2px rgba(0, 0, 0, 0.3));\n",
              "      fill: #FFFFFF;\n",
              "    }\n",
              "  </style>\n",
              "\n",
              "      <script>\n",
              "        const buttonEl =\n",
              "          document.querySelector('#df-f3429229-ae81-4a90-a5d7-45cc492e6ded button.colab-df-convert');\n",
              "        buttonEl.style.display =\n",
              "          google.colab.kernel.accessAllowed ? 'block' : 'none';\n",
              "\n",
              "        async function convertToInteractive(key) {\n",
              "          const element = document.querySelector('#df-f3429229-ae81-4a90-a5d7-45cc492e6ded');\n",
              "          const dataTable =\n",
              "            await google.colab.kernel.invokeFunction('convertToInteractive',\n",
              "                                                     [key], {});\n",
              "          if (!dataTable) return;\n",
              "\n",
              "          const docLinkHtml = 'Like what you see? Visit the ' +\n",
              "            '<a target=\"_blank\" href=https://colab.research.google.com/notebooks/data_table.ipynb>data table notebook</a>'\n",
              "            + ' to learn more about interactive tables.';\n",
              "          element.innerHTML = '';\n",
              "          dataTable['output_type'] = 'display_data';\n",
              "          await google.colab.output.renderOutput(dataTable, element);\n",
              "          const docLink = document.createElement('div');\n",
              "          docLink.innerHTML = docLinkHtml;\n",
              "          element.appendChild(docLink);\n",
              "        }\n",
              "      </script>\n",
              "    </div>\n",
              "  </div>\n",
              "  "
            ]
          },
          "metadata": {},
          "execution_count": 48
        }
      ]
    },
    {
      "cell_type": "markdown",
      "source": [
        "### 3. EDA Phase\n",
        "Now that our data is clean and standardized, lets find some insights. The main categories that i'm trying to find more information about are installs,rating, and category. Meaning that I am trying to see if there are correlations in the data that could lead to insights and how people could maximize the amount of installs they get as well as increase rating."
      ],
      "metadata": {
        "id": "XL7LMWVp8ET4"
      }
    },
    {
      "cell_type": "markdown",
      "source": [
        "## How many of each category do we have?"
      ],
      "metadata": {
        "id": "Vv9aDZeF8W6t"
      }
    },
    {
      "cell_type": "code",
      "source": [
        "plt.figure(figsize=(35, 10))\n",
        "fig = sns.histplot(x=df['category'], color='green')\n",
        "plt.xticks(rotation=55 ,color='black');"
      ],
      "metadata": {
        "colab": {
          "base_uri": "https://localhost:8080/",
          "height": 413
        },
        "id": "Wn3Pi7i376GY",
        "outputId": "70ea5f40-ea64-4239-b1d5-a55ba05d7ce0"
      },
      "execution_count": null,
      "outputs": [
        {
          "output_type": "display_data",
          "data": {
            "text/plain": [
              "<Figure size 2520x720 with 1 Axes>"
            ],
            "image/png": "[encoded data removed]"
          },
          "metadata": {
            "needs_background": "light"
          }
        }
      ]
    },
    {
      "cell_type": "markdown",
      "source": [
        "## What is the distrubution of ratings?"
      ],
      "metadata": {
        "id": "xCV358O2-hVD"
      }
    },
    {
      "cell_type": "code",
      "source": [
        "sns.histplot(data=df['rating'])\n",
        "plt.title('Histogram of Ratings')"
      ],
      "metadata": {
        "colab": {
          "base_uri": "https://localhost:8080/",
          "height": 312
        },
        "id": "PRzjMGev8eZa",
        "outputId": "97c0638a-b6f6-44a0-ff35-6b40c704994a"
      },
      "execution_count": null,
      "outputs": [
        {
          "output_type": "execute_result",
          "data": {
            "text/plain": [
              "Text(0.5, 1.0, 'Histogram of Ratings')"
            ]
          },
          "metadata": {},
          "execution_count": 50
        },
        {
          "output_type": "display_data",
          "data": {
            "text/plain": [
              "<Figure size 432x288 with 1 Axes>"
            ],
            "image/png": "[encoded data removed]"
          },
          "metadata": {
            "needs_background": "light"
          }
        }
      ]
    },
    {
      "cell_type": "markdown",
      "source": [
        "## Which categories had the most installations?"
      ],
      "metadata": {
        "id": "G_YyAxrN-7gS"
      }
    },
    {
      "cell_type": "code",
      "source": [
        "in_cat = df.groupby('category')['installs'].sum()\n",
        "in_cat = pd.DataFrame(in_cat).reset_index()"
      ],
      "metadata": {
        "id": "UzCEdr07-q1M"
      },
      "execution_count": null,
      "outputs": []
    },
    {
      "cell_type": "code",
      "source": [
        "plt.figure(figsize=(22, 8))\n",
        "order = df.groupby(['category'])['installs'].sum().sort_values(ascending=False).index\n",
        "sns.barplot(data=in_cat, x='category', y='installs', order=order)\n",
        "plt.title('Installations by Category')\n",
        "plt.xticks(rotation=55);"
      ],
      "metadata": {
        "colab": {
          "base_uri": "https://localhost:8080/",
          "height": 556
        },
        "id": "roPfsNB9_BKe",
        "outputId": "d194dc06-ffa8-4de7-84a7-7285a598e131"
      },
      "execution_count": null,
      "outputs": [
        {
          "output_type": "display_data",
          "data": {
            "text/plain": [
              "<Figure size 1584x576 with 1 Axes>"
            ],
            "image/png": "[encoded data removed]"
          },
          "metadata": {
            "needs_background": "light"
          }
        }
      ]
    },
    {
      "cell_type": "markdown",
      "source": [
        "## Does category correlate with rating?"
      ],
      "metadata": {
        "id": "oM8vOKZi_tNh"
      }
    },
    {
      "cell_type": "code",
      "source": [
        "plt.figure(figsize=(18, 7))\n",
        "sns.boxplot(data=df, x='category', y='rating')\n",
        "plt.title('Ratings vs Category')\n",
        "plt.xticks(rotation=55);"
      ],
      "metadata": {
        "colab": {
          "base_uri": "https://localhost:8080/",
          "height": 558
        },
        "id": "brRc8kE5_gdQ",
        "outputId": "69e64633-177a-4303-b0d0-565b5faaa905"
      },
      "execution_count": null,
      "outputs": [
        {
          "output_type": "display_data",
          "data": {
            "text/plain": [
              "<Figure size 1296x504 with 1 Axes>"
            ],
            "image/png": "[encoded data removed]"
          },
          "metadata": {
            "needs_background": "light"
          }
        }
      ]
    },
    {
      "cell_type": "markdown",
      "source": [
        "We can see from these boxplots that the means of ratings across the different categories do not some very different."
      ],
      "metadata": {
        "id": "RqYlT89_AwOf"
      }
    },
    {
      "cell_type": "markdown",
      "source": [
        "## How many apps are free vs paid?\n"
      ],
      "metadata": {
        "id": "QUWjCjqOBFrT"
      }
    },
    {
      "cell_type": "code",
      "source": [
        "sns.countplot(data=df, x='type')\n",
        "plt.title('Number of Free vs Paid Apps')"
      ],
      "metadata": {
        "colab": {
          "base_uri": "https://localhost:8080/",
          "height": 312
        },
        "id": "eX9fZKt8BXlA",
        "outputId": "764c9316-2f87-489b-e7b5-e0c8eed9ff26"
      },
      "execution_count": null,
      "outputs": [
        {
          "output_type": "execute_result",
          "data": {
            "text/plain": [
              "Text(0.5, 1.0, 'Number of Free vs Paid Apps')"
            ]
          },
          "metadata": {},
          "execution_count": 54
        },
        {
          "output_type": "display_data",
          "data": {
            "text/plain": [
              "<Figure size 432x288 with 1 Axes>"
            ],
            "image/png": "[encoded data removed]"
          },
          "metadata": {
            "needs_background": "light"
          }
        }
      ]
    },
    {
      "cell_type": "markdown",
      "source": [
        "## What is the relationship between apps being type and number of installs?"
      ],
      "metadata": {
        "id": "ZhHGXvKIBu82"
      }
    },
    {
      "cell_type": "code",
      "source": [
        "in_type = df.groupby('type')['installs'].sum()\n",
        "in_type = pd.DataFrame(in_type).reset_index()\n",
        "\n",
        "# type vs installs table\n",
        "in_type"
      ],
      "metadata": {
        "colab": {
          "base_uri": "https://localhost:8080/",
          "height": 112
        },
        "id": "HpavqraABZ0L",
        "outputId": "7ea42de4-7af7-44f4-b618-893c5fb0aa9b"
      },
      "execution_count": null,
      "outputs": [
        {
          "output_type": "execute_result",
          "data": {
            "text/plain": [
              "   type      installs\n",
              "0  FREE  167560477406\n",
              "1  PAID      72956081"
            ],
            "text/html": [
              "\n",
              "  <div id=\"df-3cb0bab8-b149-4313-96af-fd1f17c864b8\">\n",
              "    <div class=\"colab-df-container\">\n",
              "      <div>\n",
              "<style scoped>\n",
              "    .dataframe tbody tr th:only-of-type {\n",
              "        vertical-align: middle;\n",
              "    }\n",
              "\n",
              "    .dataframe tbody tr th {\n",
              "        vertical-align: top;\n",
              "    }\n",
              "\n",
              "    .dataframe thead th {\n",
              "        text-align: right;\n",
              "    }\n",
              "</style>\n",
              "<table border=\"1\" class=\"dataframe\">\n",
              "  <thead>\n",
              "    <tr style=\"text-align: right;\">\n",
              "      <th></th>\n",
              "      <th>type</th>\n",
              "      <th>installs</th>\n",
              "    </tr>\n",
              "  </thead>\n",
              "  <tbody>\n",
              "    <tr>\n",
              "      <th>0</th>\n",
              "      <td>FREE</td>\n",
              "      <td>167560477406</td>\n",
              "    </tr>\n",
              "    <tr>\n",
              "      <th>1</th>\n",
              "      <td>PAID</td>\n",
              "      <td>72956081</td>\n",
              "    </tr>\n",
              "  </tbody>\n",
              "</table>\n",
              "</div>\n",
              "      <button class=\"colab-df-convert\" onclick=\"convertToInteractive('df-3cb0bab8-b149-4313-96af-fd1f17c864b8')\"\n",
              "              title=\"Convert this dataframe to an interactive table.\"\n",
              "              style=\"display:none;\">\n",
              "        \n",
              "  <svg xmlns=\"http://www.w3.org/2000/svg\" height=\"24px\"viewBox=\"0 0 24 24\"\n",
              "       width=\"24px\">\n",
              "    <path d=\"M0 0h24v24H0V0z\" fill=\"none\"/>\n",
              "    <path d=\"M18.56 5.44l.94 2.06.94-2.06 2.06-.94-2.06-.94-.94-2.06-.94 2.06-2.06.94zm-11 1L8.5 8.5l.94-2.06 2.06-.94-2.06-.94L8.5 2.5l-.94 2.06-2.06.94zm10 10l.94 2.06.94-2.06 2.06-.94-2.06-.94-.94-2.06-.94 2.06-2.06.94z\"/><path d=\"M17.41 7.96l-1.37-1.37c-.4-.4-.92-.59-1.43-.59-.52 0-1.04.2-1.43.59L10.3 9.45l-7.72 7.72c-.78.78-.78 2.05 0 2.83L4 21.41c.39.39.9.59 1.41.59.51 0 1.02-.2 1.41-.59l7.78-7.78 2.81-2.81c.8-.78.8-2.07 0-2.86zM5.41 20L4 18.59l7.72-7.72 1.47 1.35L5.41 20z\"/>\n",
              "  </svg>\n",
              "      </button>\n",
              "      \n",
              "  <style>\n",
              "    .colab-df-container {\n",
              "      display:flex;\n",
              "      flex-wrap:wrap;\n",
              "      gap: 12px;\n",
              "    }\n",
              "\n",
              "    .colab-df-convert {\n",
              "      background-color: #E8F0FE;\n",
              "      border: none;\n",
              "      border-radius: 50%;\n",
              "      cursor: pointer;\n",
              "      display: none;\n",
              "      fill: #1967D2;\n",
              "      height: 32px;\n",
              "      padding: 0 0 0 0;\n",
              "      width: 32px;\n",
              "    }\n",
              "\n",
              "    .colab-df-convert:hover {\n",
              "      background-color: #E2EBFA;\n",
              "      box-shadow: 0px 1px 2px rgba(60, 64, 67, 0.3), 0px 1px 3px 1px rgba(60, 64, 67, 0.15);\n",
              "      fill: #174EA6;\n",
              "    }\n",
              "\n",
              "    [theme=dark] .colab-df-convert {\n",
              "      background-color: #3B4455;\n",
              "      fill: #D2E3FC;\n",
              "    }\n",
              "\n",
              "    [theme=dark] .colab-df-convert:hover {\n",
              "      background-color: #434B5C;\n",
              "      box-shadow: 0px 1px 3px 1px rgba(0, 0, 0, 0.15);\n",
              "      filter: drop-shadow(0px 1px 2px rgba(0, 0, 0, 0.3));\n",
              "      fill: #FFFFFF;\n",
              "    }\n",
              "  </style>\n",
              "\n",
              "      <script>\n",
              "        const buttonEl =\n",
              "          document.querySelector('#df-3cb0bab8-b149-4313-96af-fd1f17c864b8 button.colab-df-convert');\n",
              "        buttonEl.style.display =\n",
              "          google.colab.kernel.accessAllowed ? 'block' : 'none';\n",
              "\n",
              "        async function convertToInteractive(key) {\n",
              "          const element = document.querySelector('#df-3cb0bab8-b149-4313-96af-fd1f17c864b8');\n",
              "          const dataTable =\n",
              "            await google.colab.kernel.invokeFunction('convertToInteractive',\n",
              "                                                     [key], {});\n",
              "          if (!dataTable) return;\n",
              "\n",
              "          const docLinkHtml = 'Like what you see? Visit the ' +\n",
              "            '<a target=\"_blank\" href=https://colab.research.google.com/notebooks/data_table.ipynb>data table notebook</a>'\n",
              "            + ' to learn more about interactive tables.';\n",
              "          element.innerHTML = '';\n",
              "          dataTable['output_type'] = 'display_data';\n",
              "          await google.colab.output.renderOutput(dataTable, element);\n",
              "          const docLink = document.createElement('div');\n",
              "          docLink.innerHTML = docLinkHtml;\n",
              "          element.appendChild(docLink);\n",
              "        }\n",
              "      </script>\n",
              "    </div>\n",
              "  </div>\n",
              "  "
            ]
          },
          "metadata": {},
          "execution_count": 55
        }
      ]
    },
    {
      "cell_type": "code",
      "source": [
        "sns.barplot(data=in_type, x='type', y='installs')\n",
        "plt.title('Installations by Type (Free or Paid)')\n",
        "plt.xticks(rotation=55);"
      ],
      "metadata": {
        "colab": {
          "base_uri": "https://localhost:8080/",
          "height": 312
        },
        "id": "6pzjXOODB4PT",
        "outputId": "b6c1a449-4b0a-442f-d658-05c1e11a7abf"
      },
      "execution_count": null,
      "outputs": [
        {
          "output_type": "display_data",
          "data": {
            "text/plain": [
              "<Figure size 432x288 with 1 Axes>"
            ],
            "image/png": "[encoded data removed]"
          },
          "metadata": {
            "needs_background": "light"
          }
        }
      ]
    },
    {
      "cell_type": "markdown",
      "source": [
        "## What is the relationship between type and ratings?"
      ],
      "metadata": {
        "id": "5-z6Xb-oCJWe"
      }
    },
    {
      "cell_type": "code",
      "source": [
        "plt.figure(figsize=(6, 6))\n",
        "sns.boxplot(data=df, x='type', y='rating')\n",
        "plt.title('Ratings vs Type')\n",
        "plt.xticks(rotation=55);"
      ],
      "metadata": {
        "colab": {
          "base_uri": "https://localhost:8080/",
          "height": 420
        },
        "id": "kIQLLU8oCBGO",
        "outputId": "4e3cdf30-4f79-4cd6-95b8-280bc333fe6f"
      },
      "execution_count": null,
      "outputs": [
        {
          "output_type": "display_data",
          "data": {
            "text/plain": [
              "<Figure size 432x432 with 1 Axes>"
            ],
            "image/png": "[encoded data removed]"
          },
          "metadata": {
            "needs_background": "light"
          }
        }
      ]
    },
    {
      "cell_type": "markdown",
      "source": [
        "We can see there there are slightly higher reviews for paid apps than free apps.\n",
        "\n",
        "\n",
        "## Distrubution of number of reviews"
      ],
      "metadata": {
        "id": "YFuKyzSfCfSm"
      }
    },
    {
      "cell_type": "code",
      "source": [
        "sns.distplot(df['reviews'], rug=True)\n",
        "plt.title('Distrubution of Reviews', size=20);"
      ],
      "metadata": {
        "colab": {
          "base_uri": "https://localhost:8080/",
          "height": 389
        },
        "id": "3aUaiaGLCRL6",
        "outputId": "38907dd8-9e92-4716-d77a-f7a7a842ffda"
      },
      "execution_count": null,
      "outputs": [
        {
          "output_type": "stream",
          "name": "stderr",
          "text": [
            "/usr/local/lib/python3.7/dist-packages/seaborn/distributions.py:2619: FutureWarning: `distplot` is a deprecated function and will be removed in a future version. Please adapt your code to use either `displot` (a figure-level function with similar flexibility) or `histplot` (an axes-level function for histograms).\n",
            "  warnings.warn(msg, FutureWarning)\n",
            "/usr/local/lib/python3.7/dist-packages/seaborn/distributions.py:2103: FutureWarning: The `axis` variable is no longer used and will be removed. Instead, assign variables directly to `x` or `y`.\n",
            "  warnings.warn(msg, FutureWarning)\n"
          ]
        },
        {
          "output_type": "display_data",
          "data": {
            "text/plain": [
              "<Figure size 432x288 with 1 Axes>"
            ],
            "image/png": "[encoded data removed]"
          },
          "metadata": {
            "needs_background": "light"
          }
        }
      ]
    },
    {
      "cell_type": "markdown",
      "source": [
        "We can see that the vast majority of apps have less than 10M reviews.\n",
        "\n"
      ],
      "metadata": {
        "id": "WgWKHOQgDL8I"
      }
    },
    {
      "cell_type": "markdown",
      "source": [
        "## Does number of reviews correlate to rating?"
      ],
      "metadata": {
        "id": "d9gHax0qDV8v"
      }
    },
    {
      "cell_type": "code",
      "source": [
        "plt.figure(figsize=(15, 15))\n",
        "sns.jointplot(data=df, x='reviews', y='rating')"
      ],
      "metadata": {
        "colab": {
          "base_uri": "https://localhost:8080/",
          "height": 476
        },
        "id": "z4UGBp3JCvw3",
        "outputId": "eafcac34-52ee-40c5-d151-7384ba206bd6"
      },
      "execution_count": null,
      "outputs": [
        {
          "output_type": "execute_result",
          "data": {
            "text/plain": [
              "<seaborn.axisgrid.JointGrid at 0x7f66a675aa10>"
            ]
          },
          "metadata": {},
          "execution_count": 59
        },
        {
          "output_type": "display_data",
          "data": {
            "text/plain": [
              "<Figure size 1080x1080 with 0 Axes>"
            ]
          },
          "metadata": {}
        },
        {
          "output_type": "display_data",
          "data": {
            "text/plain": [
              "<Figure size 432x432 with 3 Axes>"
            ],
            "image/png": "[encoded data removed]"
          },
          "metadata": {
            "needs_background": "light"
          }
        }
      ]
    },
    {
      "cell_type": "markdown",
      "source": [
        "This graph shows us while most apps get good ratings, there is a strong correlation between more well known apps and higher ratings."
      ],
      "metadata": {
        "id": "cyy_iWMlDzbp"
      }
    },
    {
      "cell_type": "markdown",
      "source": [
        "## How does size impact installations?"
      ],
      "metadata": {
        "id": "NQ5EFGv6D8pS"
      }
    },
    {
      "cell_type": "code",
      "source": [
        "plt.figure(figsize=(15, 8))\n",
        "sns.lineplot(data=df, x='size(kb)', y='installs')\n",
        "plt.title('Size vs Installs')\n",
        "plt.xticks(rotation=55);"
      ],
      "metadata": {
        "colab": {
          "base_uri": "https://localhost:8080/",
          "height": 539
        },
        "id": "0_J41zqSD8Tr",
        "outputId": "f63ab320-8493-43df-9048-b87b8e0625c2"
      },
      "execution_count": null,
      "outputs": [
        {
          "output_type": "display_data",
          "data": {
            "text/plain": [
              "<Figure size 1080x576 with 1 Axes>"
            ],
            "image/png": "[encoded data removed]"
          },
          "metadata": {
            "needs_background": "light"
          }
        }
      ]
    },
    {
      "cell_type": "markdown",
      "source": [
        "\n",
        "We can see that there seems to be a couple of sweet spots, from about 10,000 kb to 18,000 kb, and then from 75,000 kb to about 80,000 kb in terms of number of installations."
      ],
      "metadata": {
        "id": "Y_dt5hF_EVD2"
      }
    },
    {
      "cell_type": "markdown",
      "source": [
        "## How does size impact rating?"
      ],
      "metadata": {
        "id": "QV6uAPOCEkx6"
      }
    },
    {
      "cell_type": "code",
      "source": [
        "plt.figure(figsize=(20, 20))\n",
        "sns.jointplot(data=df, x='size(kb)', y='rating');"
      ],
      "metadata": {
        "colab": {
          "base_uri": "https://localhost:8080/",
          "height": 458
        },
        "id": "T-hi0JcLDjfV",
        "outputId": "86920c7d-d9a4-4b4c-f9fa-da4ef7a5dfe9"
      },
      "execution_count": null,
      "outputs": [
        {
          "output_type": "display_data",
          "data": {
            "text/plain": [
              "<Figure size 1440x1440 with 0 Axes>"
            ]
          },
          "metadata": {}
        },
        {
          "output_type": "display_data",
          "data": {
            "text/plain": [
              "<Figure size 432x432 with 3 Axes>"
            ],
            "image/png": "[encoded data removed]"
          },
          "metadata": {
            "needs_background": "light"
          }
        }
      ]
    },
    {
      "cell_type": "markdown",
      "source": [
        "This graph suggests that apps with a lower size have more varied rating.\n",
        "\n",
        " Meaning that as we increase in size, the ratings tend to fall less and less."
      ],
      "metadata": {
        "id": "QeKLgc48FgD-"
      }
    },
    {
      "cell_type": "markdown",
      "source": [
        "## How does content rating affect number of installations?"
      ],
      "metadata": {
        "id": "Wg4EUFSNFxzI"
      }
    },
    {
      "cell_type": "code",
      "source": [
        "in_cr = df.groupby('content_rating')['installs'].sum()\n",
        "in_cr = pd.DataFrame(in_cr).reset_index()\n",
        "\n",
        "plt.figure(figsize=(12, 6))\n",
        "order = df.groupby(['content_rating'])['installs'].sum().sort_values(ascending=False).index\n",
        "sns.barplot(data=in_cr, x='content_rating', y='installs', order=order)\n",
        "plt.title('Installations by Content Rating')\n",
        "plt.xticks(rotation=55);"
      ],
      "metadata": {
        "colab": {
          "base_uri": "https://localhost:8080/",
          "height": 475
        },
        "id": "gTeQk3yJE8b7",
        "outputId": "34fbfb1f-0bf0-4e20-e8cc-be0f57f02860"
      },
      "execution_count": null,
      "outputs": [
        {
          "output_type": "display_data",
          "data": {
            "text/plain": [
              "<Figure size 864x432 with 1 Axes>"
            ],
            "image/png": "[encoded data removed]"
          },
          "metadata": {
            "needs_background": "light"
          }
        }
      ]
    },
    {
      "cell_type": "code",
      "source": [
        "plt.figure(figsize=(12, 4))\n",
        "sns.boxplot(data=df, x='content_rating', y='rating')\n",
        "plt.title('Content Rating vs Rating')\n",
        "plt.xticks(rotation=55);"
      ],
      "metadata": {
        "colab": {
          "base_uri": "https://localhost:8080/",
          "height": 367
        },
        "id": "k51g-NNFF8Vs",
        "outputId": "6fcb99c3-d159-49ee-985f-dd7894d84ff0"
      },
      "execution_count": null,
      "outputs": [
        {
          "output_type": "display_data",
          "data": {
            "text/plain": [
              "<Figure size 864x288 with 1 Axes>"
            ],
            "image/png": "[encoded data removed]"
          },
          "metadata": {
            "needs_background": "light"
          }
        }
      ]
    },
    {
      "cell_type": "markdown",
      "source": [
        "## Do apps with certain content ratings get more reviews than others?"
      ],
      "metadata": {
        "id": "sA7jHsxzGW9Q"
      }
    },
    {
      "cell_type": "code",
      "source": [
        "cr_re = df.groupby(['content_rating'])['reviews'].sum()\n",
        "cr_re = pd.DataFrame(cr_re).reset_index()\n",
        "\n",
        "plt.figure(figsize=(10, 4))\n",
        "order = df.groupby(['content_rating'])['reviews'].sum().sort_values(ascending=False).index\n",
        "sns.barplot(data=cr_re, x='content_rating', y='reviews', order=order)\n",
        "plt.title('Number of Reviews by Content Rating')\n",
        "plt.xticks(rotation=55);"
      ],
      "metadata": {
        "colab": {
          "base_uri": "https://localhost:8080/",
          "height": 367
        },
        "id": "zeRgu55BGJAD",
        "outputId": "d14b6690-521c-4f6a-e1ea-f19126cc2f23"
      },
      "execution_count": null,
      "outputs": [
        {
          "output_type": "display_data",
          "data": {
            "text/plain": [
              "<Figure size 720x288 with 1 Axes>"
            ],
            "image/png": "[encoded data removed]"
          },
          "metadata": {
            "needs_background": "light"
          }
        }
      ]
    },
    {
      "cell_type": "code",
      "source": [
        "cr_re.sort_values(by='reviews')"
      ],
      "metadata": {
        "colab": {
          "base_uri": "https://localhost:8080/",
          "height": 237
        },
        "id": "hWrzE2BAGe7L",
        "outputId": "d337a0fc-f31c-4d67-9818-1db0fecdce83"
      },
      "execution_count": null,
      "outputs": [
        {
          "output_type": "execute_result",
          "data": {
            "text/plain": [
              "    content_rating     reviews\n",
              "5          UNRATED        1187\n",
              "0  ADULTS ONLY 18+       81348\n",
              "3       MATURE 17+   197166533\n",
              "2     EVERYONE 10+   683997228\n",
              "4             TEEN  1131523721\n",
              "1         EVERYONE  2801847376"
            ],
            "text/html": [
              "\n",
              "  <div id=\"df-f40262c8-4d86-42e7-a35a-52b830f2165a\">\n",
              "    <div class=\"colab-df-container\">\n",
              "      <div>\n",
              "<style scoped>\n",
              "    .dataframe tbody tr th:only-of-type {\n",
              "        vertical-align: middle;\n",
              "    }\n",
              "\n",
              "    .dataframe tbody tr th {\n",
              "        vertical-align: top;\n",
              "    }\n",
              "\n",
              "    .dataframe thead th {\n",
              "        text-align: right;\n",
              "    }\n",
              "</style>\n",
              "<table border=\"1\" class=\"dataframe\">\n",
              "  <thead>\n",
              "    <tr style=\"text-align: right;\">\n",
              "      <th></th>\n",
              "      <th>content_rating</th>\n",
              "      <th>reviews</th>\n",
              "    </tr>\n",
              "  </thead>\n",
              "  <tbody>\n",
              "    <tr>\n",
              "      <th>5</th>\n",
              "      <td>UNRATED</td>\n",
              "      <td>1187</td>\n",
              "    </tr>\n",
              "    <tr>\n",
              "      <th>0</th>\n",
              "      <td>ADULTS ONLY 18+</td>\n",
              "      <td>81348</td>\n",
              "    </tr>\n",
              "    <tr>\n",
              "      <th>3</th>\n",
              "      <td>MATURE 17+</td>\n",
              "      <td>197166533</td>\n",
              "    </tr>\n",
              "    <tr>\n",
              "      <th>2</th>\n",
              "      <td>EVERYONE 10+</td>\n",
              "      <td>683997228</td>\n",
              "    </tr>\n",
              "    <tr>\n",
              "      <th>4</th>\n",
              "      <td>TEEN</td>\n",
              "      <td>1131523721</td>\n",
              "    </tr>\n",
              "    <tr>\n",
              "      <th>1</th>\n",
              "      <td>EVERYONE</td>\n",
              "      <td>2801847376</td>\n",
              "    </tr>\n",
              "  </tbody>\n",
              "</table>\n",
              "</div>\n",
              "      <button class=\"colab-df-convert\" onclick=\"convertToInteractive('df-f40262c8-4d86-42e7-a35a-52b830f2165a')\"\n",
              "              title=\"Convert this dataframe to an interactive table.\"\n",
              "              style=\"display:none;\">\n",
              "        \n",
              "  <svg xmlns=\"http://www.w3.org/2000/svg\" height=\"24px\"viewBox=\"0 0 24 24\"\n",
              "       width=\"24px\">\n",
              "    <path d=\"M0 0h24v24H0V0z\" fill=\"none\"/>\n",
              "    <path d=\"M18.56 5.44l.94 2.06.94-2.06 2.06-.94-2.06-.94-.94-2.06-.94 2.06-2.06.94zm-11 1L8.5 8.5l.94-2.06 2.06-.94-2.06-.94L8.5 2.5l-.94 2.06-2.06.94zm10 10l.94 2.06.94-2.06 2.06-.94-2.06-.94-.94-2.06-.94 2.06-2.06.94z\"/><path d=\"M17.41 7.96l-1.37-1.37c-.4-.4-.92-.59-1.43-.59-.52 0-1.04.2-1.43.59L10.3 9.45l-7.72 7.72c-.78.78-.78 2.05 0 2.83L4 21.41c.39.39.9.59 1.41.59.51 0 1.02-.2 1.41-.59l7.78-7.78 2.81-2.81c.8-.78.8-2.07 0-2.86zM5.41 20L4 18.59l7.72-7.72 1.47 1.35L5.41 20z\"/>\n",
              "  </svg>\n",
              "      </button>\n",
              "      \n",
              "  <style>\n",
              "    .colab-df-container {\n",
              "      display:flex;\n",
              "      flex-wrap:wrap;\n",
              "      gap: 12px;\n",
              "    }\n",
              "\n",
              "    .colab-df-convert {\n",
              "      background-color: #E8F0FE;\n",
              "      border: none;\n",
              "      border-radius: 50%;\n",
              "      cursor: pointer;\n",
              "      display: none;\n",
              "      fill: #1967D2;\n",
              "      height: 32px;\n",
              "      padding: 0 0 0 0;\n",
              "      width: 32px;\n",
              "    }\n",
              "\n",
              "    .colab-df-convert:hover {\n",
              "      background-color: #E2EBFA;\n",
              "      box-shadow: 0px 1px 2px rgba(60, 64, 67, 0.3), 0px 1px 3px 1px rgba(60, 64, 67, 0.15);\n",
              "      fill: #174EA6;\n",
              "    }\n",
              "\n",
              "    [theme=dark] .colab-df-convert {\n",
              "      background-color: #3B4455;\n",
              "      fill: #D2E3FC;\n",
              "    }\n",
              "\n",
              "    [theme=dark] .colab-df-convert:hover {\n",
              "      background-color: #434B5C;\n",
              "      box-shadow: 0px 1px 3px 1px rgba(0, 0, 0, 0.15);\n",
              "      filter: drop-shadow(0px 1px 2px rgba(0, 0, 0, 0.3));\n",
              "      fill: #FFFFFF;\n",
              "    }\n",
              "  </style>\n",
              "\n",
              "      <script>\n",
              "        const buttonEl =\n",
              "          document.querySelector('#df-f40262c8-4d86-42e7-a35a-52b830f2165a button.colab-df-convert');\n",
              "        buttonEl.style.display =\n",
              "          google.colab.kernel.accessAllowed ? 'block' : 'none';\n",
              "\n",
              "        async function convertToInteractive(key) {\n",
              "          const element = document.querySelector('#df-f40262c8-4d86-42e7-a35a-52b830f2165a');\n",
              "          const dataTable =\n",
              "            await google.colab.kernel.invokeFunction('convertToInteractive',\n",
              "                                                     [key], {});\n",
              "          if (!dataTable) return;\n",
              "\n",
              "          const docLinkHtml = 'Like what you see? Visit the ' +\n",
              "            '<a target=\"_blank\" href=https://colab.research.google.com/notebooks/data_table.ipynb>data table notebook</a>'\n",
              "            + ' to learn more about interactive tables.';\n",
              "          element.innerHTML = '';\n",
              "          dataTable['output_type'] = 'display_data';\n",
              "          await google.colab.output.renderOutput(dataTable, element);\n",
              "          const docLink = document.createElement('div');\n",
              "          docLink.innerHTML = docLinkHtml;\n",
              "          element.appendChild(docLink);\n",
              "        }\n",
              "      </script>\n",
              "    </div>\n",
              "  </div>\n",
              "  "
            ]
          },
          "metadata": {},
          "execution_count": 65
        }
      ]
    },
    {
      "cell_type": "markdown",
      "source": [
        "# Is there a correlation between rating and year last updated?"
      ],
      "metadata": {
        "id": "zVXqoiRYGu2M"
      }
    },
    {
      "cell_type": "code",
      "source": [
        "plt.figure(figsize=(14, 7))\n",
        "sns.jointplot(data=df, x='last_updated', y='rating')"
      ],
      "metadata": {
        "colab": {
          "base_uri": "https://localhost:8080/",
          "height": 476
        },
        "id": "gLU1aF7JGqdf",
        "outputId": "2a67d8e5-4d21-43b3-cf6b-158760384815"
      },
      "execution_count": null,
      "outputs": [
        {
          "output_type": "execute_result",
          "data": {
            "text/plain": [
              "<seaborn.axisgrid.JointGrid at 0x7f669b29a790>"
            ]
          },
          "metadata": {},
          "execution_count": 66
        },
        {
          "output_type": "display_data",
          "data": {
            "text/plain": [
              "<Figure size 1008x504 with 0 Axes>"
            ]
          },
          "metadata": {}
        },
        {
          "output_type": "display_data",
          "data": {
            "text/plain": [
              "<Figure size 432x432 with 3 Axes>"
            ],
            "image/png": "[encoded data removed]"
          },
          "metadata": {
            "needs_background": "light"
          }
        }
      ]
    },
    {
      "cell_type": "markdown",
      "source": [
        "There seems to be more variation in rating in apps that have been updated more recently.\n",
        "\n",
        "My question for that is that, is that just because perhaps there are more installations in apps last updated more recently? \n",
        "\n",
        "Lets find out."
      ],
      "metadata": {
        "id": "YVZbpzJiHKlS"
      }
    },
    {
      "cell_type": "code",
      "source": [
        "plt.figure(figsize=(10, 5))\n",
        "sns.lineplot(data=df, x='last_updated', y='installs')"
      ],
      "metadata": {
        "colab": {
          "base_uri": "https://localhost:8080/",
          "height": 363
        },
        "id": "EeoBX00wG1iT",
        "outputId": "98eece32-dbf9-4794-96e2-d523f1e3eced"
      },
      "execution_count": null,
      "outputs": [
        {
          "output_type": "execute_result",
          "data": {
            "text/plain": [
              "<matplotlib.axes._subplots.AxesSubplot at 0x7f669dac7bd0>"
            ]
          },
          "metadata": {},
          "execution_count": 67
        },
        {
          "output_type": "display_data",
          "data": {
            "text/plain": [
              "<Figure size 720x360 with 1 Axes>"
            ],
            "image/png": "[encoded data removed]"
          },
          "metadata": {
            "needs_background": "light"
          }
        }
      ]
    },
    {
      "cell_type": "markdown",
      "source": [
        "So my hypothesis was correct. It seems as though the variety in ratings comes from the fact that there are vastly more installs in apps last updated more frequently, specfically in the year 2018."
      ],
      "metadata": {
        "id": "W9dN-luCHplF"
      }
    },
    {
      "cell_type": "code",
      "source": [],
      "metadata": {
        "id": "UNXWZDlzHbBy"
      },
      "execution_count": null,
      "outputs": []
    }
  ]
}